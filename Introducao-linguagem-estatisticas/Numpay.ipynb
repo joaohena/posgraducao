{
 "cells": [
  {
   "cell_type": "code",
   "execution_count": 3,
   "metadata": {},
   "outputs": [
    {
     "name": "stdout",
     "output_type": "stream",
     "text": [
      "<class 'numpy.ndarray'>\n",
      "a :  [1 2 3 4 5 6] dims:  1\n",
      "b :  [[ 0  1  2  3  4]\n",
      " [ 5  6  7  8  9]\n",
      " [10 11 12 13 14]] dims:  2\n",
      "int64\n",
      "float64\n",
      "<class 'numpy.ndarray'>\n"
     ]
    }
   ],
   "source": [
    "import numpy as np\n",
    "\n",
    "#criando um ndarray a apartir de uma lista\n",
    "a = np.array([1, 2, 3, 4, 5, 6])\n",
    "\n",
    "print(type(a))\n",
    "\n",
    "# cria um array 2D com 15 elementos de 0 a 14\n",
    "# com 3 linhas e 5 colunas\n",
    "b = np.arange(15).reshape(3, 5)\n",
    "\n",
    "print(\"a : \", a, \"dims: \", a.ndim)\n",
    "print(\"b : \", b, \"dims: \", b.ndim)\n",
    "\n",
    "# tipo dos elementso no array\n",
    "print(a.dtype)\n",
    "\n",
    "# convertendo para float\n",
    "print(b.astype(float).dtype)\n",
    "\n",
    "print(type(a))"
   ]
  },
  {
   "cell_type": "code",
   "execution_count": 9,
   "metadata": {},
   "outputs": [
    {
     "name": "stdout",
     "output_type": "stream",
     "text": [
      "['2' '3.4' 'Ola'] <U32\n",
      "[1.  2.  3.4] float64\n",
      "[1 2] int64\n",
      "[ True False] bool\n",
      "[2 3 4] int64\n"
     ]
    }
   ],
   "source": [
    "import numpy as np\n",
    "\n",
    "# dominancia na criação do array\n",
    "# str > float > int > bool\n",
    "a = np.array([2, 3.4, 'Ola'])\n",
    "print(a, a.dtype)\n",
    "\n",
    "a = np.array([True, 2, 3.4])\n",
    "print (a, a.dtype)\n",
    "\n",
    "a = np.array([True, 2])\n",
    "print (a, a.dtype)\n",
    "\n",
    "a = np.array([True, False])\n",
    "print (a, a.dtype)\n",
    "\n",
    "a = np.array([2, 3, 4])\n",
    "print (a, a.dtype)"
   ]
  },
  {
   "cell_type": "code",
   "execution_count": 14,
   "metadata": {},
   "outputs": [],
   "source": [
    "\"\"\"\n",
    "# forma de criar array\n",
    "a = np.array(1, 2, 3, 4) # errado\n",
    "\"\"\"\n",
    "a = np.array([1, 2, 3, 4]) # certo\n",
    "\n",
    "# help da funcção\n",
    "# np.array?\n"
   ]
  },
  {
   "cell_type": "code",
   "execution_count": 18,
   "metadata": {},
   "outputs": [
    {
     "data": {
      "text/plain": [
       "2"
      ]
     },
     "execution_count": 18,
     "metadata": {},
     "output_type": "execute_result"
    }
   ],
   "source": [
    "a = [(1., 0., 0),\n",
    "     (0., 1., 2.)]\n",
    "b = np.array(a)\n",
    "b.ndim"
   ]
  },
  {
   "cell_type": "code",
   "execution_count": 17,
   "metadata": {},
   "outputs": [
    {
     "data": {
      "text/plain": [
       "array([[1.+0.j, 0.+0.j, 0.+0.j],\n",
       "       [0.+0.j, 1.+0.j, 2.+0.j]])"
      ]
     },
     "execution_count": 17,
     "metadata": {},
     "output_type": "execute_result"
    }
   ],
   "source": [
    "a = [(1., 0., 0),\n",
    "     (0., 1., 2.)]\n",
    "# explicitamente falando qual é o tipo elementos\n",
    "b = np.array(a, dtype = complex)\n",
    "b"
   ]
  },
  {
   "cell_type": "code",
   "execution_count": 22,
   "metadata": {},
   "outputs": [
    {
     "name": "stdout",
     "output_type": "stream",
     "text": [
      "[[0. 0. 0. 0.]\n",
      " [0. 0. 0. 0.]\n",
      " [0. 0. 0. 0.]]\n",
      "[1. 1. 1.]\n",
      "[[[9.38724727e-323 0.00000000e+000 2.46151512e-312 4.82337433e+228\n",
      "   6.14415221e-144 1.16097020e-028 4.75388684e-038 2.26199768e-076\n",
      "   2.21378315e-052 3.97062373e+246]\n",
      "  [1.16318408e-028 1.18948389e-047 6.01642562e-067 3.34426246e-061\n",
      "   6.18487475e+169 5.04621361e+180 8.37170571e-144 1.62145439e+243\n",
      "   2.87628517e+180 9.94112800e-143]]]\n"
     ]
    }
   ],
   "source": [
    "# array apenas com zeros\n",
    "# recebe como pagametro o shape\n",
    "# shape sempre é uma tupla\n",
    "print(np.zeros((3, 4)))\n",
    "\n",
    "# array apenas de uns\n",
    "print(np.ones((3)))\n",
    "\n",
    "# array não inicializados - perigoso o uso\n",
    "# (apenas lixos, valores podem sofre alteração)\n",
    "print(np.empty((1, 2, 10)))"
   ]
  },
  {
   "cell_type": "code",
   "execution_count": 23,
   "metadata": {},
   "outputs": [
    {
     "name": "stdout",
     "output_type": "stream",
     "text": [
      "[10. 10. 10.]\n"
     ]
    }
   ],
   "source": [
    "# array criados com outros valores\n",
    "print(np.ones((3)) * 10)"
   ]
  },
  {
   "cell_type": "code",
   "execution_count": 26,
   "metadata": {},
   "outputs": [
    {
     "data": {
      "text/plain": [
       "array([10.32492666, 10.51774851, 10.53981409])"
      ]
     },
     "execution_count": 26,
     "metadata": {},
     "output_type": "execute_result"
    }
   ],
   "source": [
    "# array criados com valores rondomicos\n",
    "10 + np.random.rand(3)"
   ]
  },
  {
   "cell_type": "code",
   "execution_count": 28,
   "metadata": {},
   "outputs": [
    {
     "name": "stdout",
     "output_type": "stream",
     "text": [
      "[10 15 20 25]\n",
      "[0.  0.5 1.  1.5 2.  2.5 3.  3.5 4.  4.5 5.  5.5 6.  6.5 7.  7.5 8.  8.5\n",
      " 9.  9.5]\n"
     ]
    }
   ],
   "source": [
    "# criando sequências de números (arange)\n",
    "print(np.arange(10, 30, 5))\n",
    "\n",
    "# também aceita float\n",
    "print(np.arange(0, 10, 0.5))"
   ]
  },
  {
   "cell_type": "code",
   "execution_count": 29,
   "metadata": {},
   "outputs": [
    {
     "data": {
      "text/plain": [
       "array([0. , 0.5, 1. , 1.5, 2. , 2.5, 3. , 3.5, 4. , 4.5, 5. , 5.5, 6. ,\n",
       "       6.5, 7. , 7.5, 8. , 8.5, 9. , 9.5])"
      ]
     },
     "execution_count": 29,
     "metadata": {},
     "output_type": "execute_result"
    }
   ],
   "source": [
    "# linspace\n",
    "np.linspace(0, 9.5, 20)"
   ]
  },
  {
   "cell_type": "code",
   "execution_count": 43,
   "metadata": {},
   "outputs": [
    {
     "name": "stdout",
     "output_type": "stream",
     "text": [
      "2 * [1 2 3] = [2 4 6]\n",
      "2 + [1 2 3] = [3 4 5]\n",
      "2 - [1 2 3] = [ 1  0 -1]\n",
      "2 / [1 2 3] = [2.         1.         0.66666667]\n",
      "2 % [1 2 3] = [0 0 2]\n",
      "2 ** [1 2 3] = [2 4 8]\n"
     ]
    }
   ],
   "source": [
    "# Operações basicas\n",
    "## array\n",
    "a = np.array([1, 2, 3])\n",
    "\n",
    "## escalar\n",
    "b = 2\n",
    "\n",
    "print(\"{} * {} = {}\".format(b, a, b * a))\n",
    "print(\"{} + {} = {}\".format(b, a, b + a))\n",
    "print(\"{} - {} = {}\".format(b, a, b - a))\n",
    "print(\"{} / {} = {}\".format(b, a, b / a))\n",
    "print(\"{} % {} = {}\".format(b, a, b % a))\n",
    "print(\"{} ** {} = {}\".format(b, a, b ** a))"
   ]
  },
  {
   "cell_type": "code",
   "execution_count": 41,
   "metadata": {},
   "outputs": [
    {
     "data": {
      "text/plain": [
       "[3, 6, 9]"
      ]
     },
     "execution_count": 41,
     "metadata": {},
     "output_type": "execute_result"
    }
   ],
   "source": [
    "# fazendo multiplicação com python em lista - forma mais complexa do que fazer com array\n",
    "[1, 2, 3] * 2 #resultado errado - neste caso aumentou a lista\n",
    "[elem * 3 for elem in [1, 2, 3]] #resultado correto mas tive que usar 'for'\n",
    "list(map(lambda x: x * 3, [1, 2, 3])) #resultado correto mas tive que usar 'map'"
   ]
  },
  {
   "cell_type": "code",
   "execution_count": 44,
   "metadata": {},
   "outputs": [
    {
     "name": "stdout",
     "output_type": "stream",
     "text": [
      "[1 2 3] * [10  2  5] = [10  4 15]\n",
      "[1 2 3] + [10  2  5] = [11  4  8]\n",
      "[1 2 3] - [10  2  5] = [-9  0 -2]\n",
      "[1 2 3] / [10  2  5] = [0.1 1.  0.6]\n",
      "[1 2 3] % [10  2  5] = [1 0 3]\n",
      "[1 2 3] ** [10  2  5] = [  1   4 243]\n"
     ]
    }
   ],
   "source": [
    "## entre arrays\n",
    "c = np.array([10, 2, 5])\n",
    "\n",
    "print(\"{} * {} = {}\".format(a, c, a * c))\n",
    "print(\"{} + {} = {}\".format(a, c, a + c))\n",
    "print(\"{} - {} = {}\".format(a, c, a - c))\n",
    "print(\"{} / {} = {}\".format(a, c, a / c))\n",
    "print(\"{} % {} = {}\".format(a, c, a % c))\n",
    "print(\"{} ** {} = {}\".format(a, c, a ** c))"
   ]
  },
  {
   "cell_type": "code",
   "execution_count": 45,
   "metadata": {},
   "outputs": [
    {
     "name": "stdout",
     "output_type": "stream",
     "text": [
      "np.log([10  2  5]) = [2.30258509 0.69314718 1.60943791]\n",
      "np.sqrt([10  2  5]) = [3.16227766 1.41421356 2.23606798]\n"
     ]
    }
   ],
   "source": [
    "## funções elemento a elemento (element-wise)\n",
    "print(\"np.log({}) = {}\".format(c, np.log(c)))\n",
    "print(\"np.sqrt({}) = {}\".format(c, np.sqrt(c)))"
   ]
  },
  {
   "cell_type": "code",
   "execution_count": 48,
   "metadata": {},
   "outputs": [],
   "source": [
    "#buscar todas as funções para numpay\n",
    "np.__dict__"
   ]
  },
  {
   "cell_type": "code",
   "execution_count": 55,
   "metadata": {},
   "outputs": [
    {
     "name": "stdout",
     "output_type": "stream",
     "text": [
      "0.33321013570099056\n",
      "0.3332101357009778\n",
      "1.05 s ± 9.35 ms per loop (mean ± std. dev. of 7 runs, 1 loop each)\n",
      "6.89 ms ± 328 µs per loop (mean ± std. dev. of 7 runs, 100 loops each)\n"
     ]
    }
   ],
   "source": [
    "# implementar a métrica Erro Quadrático Médio (MSE)\n",
    "# $\\frac{1}{n}\\sum_{i=1}^n (\\hat{y_i} - y_i)^2$ (formula em markdown)\n",
    "\n",
    "def MSE(y_true, y_pred):\n",
    "    \"\"\"\n",
    "    Mean Squared Error\n",
    "    \n",
    "    Parametros\n",
    "    ----------\n",
    "    y_true : 1d array\n",
    "        Rótulos.\n",
    "    y_pred : 1d array\n",
    "        Predições, retornadas pelo modelo.\n",
    "    \"\"\"\n",
    "    \n",
    "    n = len(y_true)\n",
    "    soma = 0\n",
    "    for i in range(n):\n",
    "        soma += (y_pred[i] - y_true[i]) ** 2\n",
    "    \n",
    "    return soma / n\n",
    "\n",
    "\n",
    "def vMSE(y_true, y_pred):\n",
    "    \"\"\"\n",
    "    Vectorized Mean Squared Error\n",
    "    \n",
    "    Parâmetros\n",
    "    ----------\n",
    "    y_true : 1d array\n",
    "        Rótulos.\n",
    "    y_pred : 1d array\n",
    "        Predições, retornadas pelo modelo.\n",
    "    \"\"\"\n",
    "    \n",
    "    # TODO: versão vetorizada do RMSLE\n",
    "    \n",
    "    # primeiro exemplo\n",
    "    #n = y_true.shape[0]\n",
    "    #return np.sum((y_pred - y_true) ** 2) / n\n",
    "    \n",
    "    # segundo exemplo\n",
    "    return np.mean((y_pred - y_true) ** 2)\n",
    "\n",
    "y_true = np.arange(1000000) + 1\n",
    "y_pred = y_true - np.random.rand(y_true.shape[0])\n",
    "\n",
    "print(MSE(y_true, y_pred))\n",
    "print(vMSE(y_true, y_pred))\n",
    "\n",
    "# para descobrir quando tempo está demorando cada execução no processador\n",
    "% timeit MSE(y_true, y_pred)\n",
    "% timeit vMSE(y_true, y_pred)"
   ]
  },
  {
   "cell_type": "markdown",
   "metadata": {},
   "source": [
    "$\\frac{1}{n}\\sum_{i=1}^n (\\hat{y_i} - y_i)^2$"
   ]
  },
  {
   "cell_type": "code",
   "execution_count": null,
   "metadata": {},
   "outputs": [],
   "source": []
  }
 ],
 "metadata": {
  "kernelspec": {
   "display_name": "Python 3",
   "language": "python",
   "name": "python3"
  },
  "language_info": {
   "codemirror_mode": {
    "name": "ipython",
    "version": 3
   },
   "file_extension": ".py",
   "mimetype": "text/x-python",
   "name": "python",
   "nbconvert_exporter": "python",
   "pygments_lexer": "ipython3",
   "version": "3.6.5"
  }
 },
 "nbformat": 4,
 "nbformat_minor": 2
}
