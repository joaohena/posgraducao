{
 "cells": [
  {
   "cell_type": "code",
   "execution_count": 1,
   "metadata": {},
   "outputs": [
    {
     "name": "stdout",
     "output_type": "stream",
     "text": [
      "10 0.5 Legal!\n"
     ]
    }
   ],
   "source": [
    "# variaveis\n",
    "# ----------------------------------- #\n",
    "\n",
    "a = 10\n",
    "b = 0.5\n",
    "c = \"Legal!\"\n",
    "\n",
    "print(a, b, c)"
   ]
  },
  {
   "cell_type": "code",
   "execution_count": 2,
   "metadata": {},
   "outputs": [
    {
     "name": "stdout",
     "output_type": "stream",
     "text": [
      "10 0.5 Legal!\n"
     ]
    }
   ],
   "source": [
    "a, b, c = 10, 0.5, \"Legal!\"\n",
    "\n",
    "print(a, b, c)"
   ]
  },
  {
   "cell_type": "code",
   "execution_count": 4,
   "metadata": {},
   "outputs": [
    {
     "name": "stdout",
     "output_type": "stream",
     "text": [
      "Mesmo Valor Mesmo Valor Mesmo Valor\n"
     ]
    }
   ],
   "source": [
    "a = b = c = \"Mesmo Valor\"\n",
    "\n",
    "print (a, b, c)"
   ]
  },
  {
   "cell_type": "code",
   "execution_count": 5,
   "metadata": {},
   "outputs": [
    {
     "name": "stdout",
     "output_type": "stream",
     "text": [
      "<class 'int'> True\n"
     ]
    }
   ],
   "source": [
    "# Tipos\n",
    "# ----------------------------------- #\n",
    "\n",
    "valor = 5\n",
    "print(type(valor), isinstance(valor, int))"
   ]
  },
  {
   "cell_type": "code",
   "execution_count": 6,
   "metadata": {},
   "outputs": [
    {
     "name": "stdout",
     "output_type": "stream",
     "text": [
      "<class 'int'> True\n"
     ]
    }
   ],
   "source": [
    "valor = 55555555555555555555555555555555555555555555555555555555555555555555555555\n",
    "print (type(valor), isinstance(valor, int))"
   ]
  },
  {
   "cell_type": "code",
   "execution_count": 7,
   "metadata": {},
   "outputs": [
    {
     "name": "stdout",
     "output_type": "stream",
     "text": [
      "<class 'float'> True\n"
     ]
    }
   ],
   "source": [
    "valor = 5.0\n",
    "print(type(valor), isinstance(valor, float))"
   ]
  },
  {
   "cell_type": "code",
   "execution_count": 8,
   "metadata": {},
   "outputs": [
    {
     "name": "stdout",
     "output_type": "stream",
     "text": [
      "<class 'complex'> False\n"
     ]
    }
   ],
   "source": [
    "valor = 5.0 + 4j\n",
    "print(type(valor), isinstance(valor, float))"
   ]
  },
  {
   "cell_type": "code",
   "execution_count": 10,
   "metadata": {},
   "outputs": [],
   "source": [
    "# Conversão de tipos\n",
    "# ----------------------------------- #\n",
    "\n",
    "float_to_int = int(5.3)\n",
    "\n",
    "# - convertando str na base 10 para inteiro\n",
    "str_to_int = int(\"10\")\n",
    "\n",
    "# - convertando str na base 2 para inteiro\n",
    "str2_to_int = int(\"10\",2)\n",
    "\n",
    "# - convertando inteiro para booleano\n",
    "int_to_true = bool(2)\n",
    "int_to_false = bool(0)\n",
    "\n",
    "# - convertendo float para booleano\n",
    "float_to_true = bool(2.0)\n",
    "float_to_false = bool(0.0)\n",
    "\n",
    "# - convertendo str para booleano\n",
    "str_to_true = bool(\"true\")\n",
    "str_to_false = bool(\"false\")\n",
    "\n",
    "# - convertendo Nome para booleno\n",
    "nome_to_false = bool(None)"
   ]
  },
  {
   "cell_type": "code",
   "execution_count": 11,
   "metadata": {},
   "outputs": [],
   "source": [
    "# Exemplos de identificadores corretos\n",
    "# ----------------------------------- #\n",
    "\n",
    "# - apenas letras minúsculas\n",
    "identificador = 1\n",
    "\n",
    "# - identificador formado por letras minúsculas e underscope\n",
    "meu_primeiro_identificador = 1\n",
    "\n",
    "# - letras minúsculas, maiúsuculas\n",
    "meuPrimeiroIdentificador = 1\n",
    "\n",
    "# - letras minúsculas, maiúsculas e dígitos\n",
    "meuIdentificador1 = 1\n",
    "\n",
    "# - letras minúsculas, maiúsculas, underscore e dígito\n",
    "meu_Identificador_2 = 1"
   ]
  },
  {
   "cell_type": "code",
   "execution_count": 16,
   "metadata": {},
   "outputs": [
    {
     "name": "stdout",
     "output_type": "stream",
     "text": [
      "01\n"
     ]
    },
    {
     "data": {
      "text/plain": [
       "' \\n Isso é um comentário \\n mais longo que o \\n anterior \\n'"
      ]
     },
     "execution_count": 16,
     "metadata": {},
     "output_type": "execute_result"
    }
   ],
   "source": [
    "# Comentários\n",
    "# ----------------------------------- #\n",
    "\n",
    "# - Isso é um comentário de uma linha\n",
    "print(\"01\")\n",
    "\n",
    "# isso é um comentário\n",
    "# mais longo que o \n",
    "# anterior\n",
    "\n",
    "\"\"\" \n",
    " Isso é um comentário \n",
    " mais longo que o \n",
    " anterior \n",
    "\"\"\""
   ]
  },
  {
   "cell_type": "code",
   "execution_count": 1,
   "metadata": {},
   "outputs": [
    {
     "name": "stdout",
     "output_type": "stream",
     "text": [
      "Entre com valor da variável x: a\n"
     ]
    }
   ],
   "source": [
    "# Comandos Input e Print\n",
    "# ----------------------------------- #\n",
    "\n",
    "# - Comando para manipulação da entrada\n",
    "x = input(\"Entre com valor da variável x: \")"
   ]
  },
  {
   "cell_type": "code",
   "execution_count": 2,
   "metadata": {},
   "outputs": [
    {
     "name": "stdout",
     "output_type": "stream",
     "text": [
      "Entre com valor da variável x: 10\n",
      "Resultado 20\n"
     ]
    }
   ],
   "source": [
    "# - Convertendo para o tipo desejado\n",
    "x = int(input(\"Entre com valor da variável x: \"))\n",
    "\n",
    "# - Comando para manipulação da saída\n",
    "print(\"Resultado\", x + 10)"
   ]
  },
  {
   "cell_type": "code",
   "execution_count": 5,
   "metadata": {},
   "outputs": [
    {
     "name": "stdout",
     "output_type": "stream",
     "text": [
      "| x | y | x and y | \n",
      "------------------- \n",
      "| T | T |    T    |\n",
      "| T | F |    F    |\n",
      "| F | T |    F    |\n",
      "| F | F |    F    |\n"
     ]
    }
   ],
   "source": [
    "# Operadores Booleanos\n",
    "# ----------------------------------- #\n",
    "\n",
    "# -- tabela verade do and\n",
    "print('| x | y | x and y | ')\n",
    "print('------------------- ')\n",
    "print('| T | T |   ', str(True and True)[0], '   |')\n",
    "print('| T | F |   ', str(True and False)[0], '   |')\n",
    "print('| F | T |   ', str(False and True)[0], '   |')\n",
    "print('| F | F |   ', str(False and False)[0], '   |')"
   ]
  },
  {
   "cell_type": "code",
   "execution_count": 6,
   "metadata": {},
   "outputs": [
    {
     "name": "stdout",
     "output_type": "stream",
     "text": [
      "| x | y | x and y | \n",
      "------------------- \n",
      "| T | T |    T    |\n",
      "| T | F |    T    |\n",
      "| F | T |    T    |\n",
      "| F | F |    F    |\n"
     ]
    }
   ],
   "source": [
    "# -- tabela verade do or\n",
    "print('| x | y | x or y | ')\n",
    "print('------------------- ')\n",
    "print('| T | T |   ', str(True or True)[0], '   |')\n",
    "print('| T | F |   ', str(True or False)[0], '   |')\n",
    "print('| F | T |   ', str(False or True)[0], '   |')\n",
    "print('| F | F |   ', str(False or False)[0], '   |')"
   ]
  },
  {
   "cell_type": "code",
   "execution_count": 7,
   "metadata": {},
   "outputs": [
    {
     "name": "stdout",
     "output_type": "stream",
     "text": [
      "| x | y | x xor y | \n",
      "------------------- \n",
      "| T | T |    F    |\n",
      "| T | F |    T    |\n",
      "| F | T |    T    |\n",
      "| F | F |    F    |\n"
     ]
    }
   ],
   "source": [
    "# -- tabela verade do xor\n",
    "print('| x | y | x xor y | ')\n",
    "print('------------------- ')\n",
    "print('| T | T |   ', str(True ^ True)[0], '   |')\n",
    "print('| T | F |   ', str(True ^ False)[0], '   |')\n",
    "print('| F | T |   ', str(False ^ True)[0], '   |')\n",
    "print('| F | F |   ', str(False ^ False)[0], '   |')"
   ]
  },
  {
   "cell_type": "code",
   "execution_count": 9,
   "metadata": {},
   "outputs": [
    {
     "name": "stdout",
     "output_type": "stream",
     "text": [
      "| x | !x | \n",
      "---------- \n",
      "| T | F  |\n",
      "| F | T  |\n"
     ]
    }
   ],
   "source": [
    "# -- tabela verade do not\n",
    "print('| x | !x | ')\n",
    "print('---------- ')\n",
    "print('| T |', str(not True)[0], ' |')\n",
    "print('| F |', str(not False)[0], ' |')"
   ]
  },
  {
   "cell_type": "code",
   "execution_count": 13,
   "metadata": {},
   "outputs": [
    {
     "name": "stdout",
     "output_type": "stream",
     "text": [
      "Entre com um valor de x: 2\n",
      "Entre com um valor de y: 3\n",
      "2 en binário é 10\n",
      "3 en binário é 11\n",
      "\n",
      "10\n",
      "11 &\n",
      "----\n",
      "10\n"
     ]
    }
   ],
   "source": [
    "# Operadores Bitwise\n",
    "# ----------------------------------- #\n",
    "\n",
    "# - Bitwise AND\n",
    "x = int(input(\"Entre com um valor de x: \"))\n",
    "y = int(input(\"Entre com um valor de y: \"))\n",
    "\n",
    "# -- para visualizar a forma binária do número\n",
    "x_bin = \"{0:b}\".format(x)\n",
    "y_bin = \"{0:b}\".format(y)\n",
    "\n",
    "# -- executando a operação de bitwise and\n",
    "resultado = \"{0:b}\".format(x & y)\n",
    "\n",
    "# -- apenas deixando os valores binário com mesmo tamanho para facilitar a visualização das mesmas\n",
    "m = max(len(x_bin), len(y_bin), len(resultado))\n",
    "x_bin = \"0\" * (m - len(x_bin)) + x_bin\n",
    "y_bin = \"0\" * (m - len(y_bin)) + y_bin\n",
    "resultado = \"0\" * (m - len(resultado)) + resultado\n",
    "\n",
    "# -- imprimindo os resultados\n",
    "print(\"{x} en binário é {x_bin}\".format(x=x, x_bin=x_bin))\n",
    "print(\"{y} en binário é {y_bin}\".format(y=y, y_bin=y_bin))\n",
    "print()\n",
    "print(x_bin)\n",
    "print(y_bin, '&')\n",
    "print('-' * (m + 2))\n",
    "print(resultado)"
   ]
  },
  {
   "cell_type": "code",
   "execution_count": 2,
   "metadata": {},
   "outputs": [
    {
     "name": "stdout",
     "output_type": "stream",
     "text": [
      "Entre com um valor de x: 1\n",
      "Entre com um valor de y: 2\n",
      "1 en binário é 01\n",
      "2 en binário é 10\n",
      "\n",
      "01\n",
      "10 &\n",
      "----\n",
      "11\n"
     ]
    }
   ],
   "source": [
    "# - Bitwise OR\n",
    "x = int(input(\"Entre com um valor de x: \"))\n",
    "y = int(input(\"Entre com um valor de y: \"))\n",
    "\n",
    "# -- para visualizar a forma binária do número\n",
    "x_bin = \"{0:b}\".format(x)\n",
    "y_bin = \"{0:b}\".format(y)\n",
    "\n",
    "# -- executando a operação de bitwise and\n",
    "resultado = \"{0:b}\".format(x | y)\n",
    "\n",
    "# -- apenas deixando os valores binário com mesmo tamanho para facilitar a visualização das mesmas\n",
    "m = max(len(x_bin), len(y_bin), len(resultado))\n",
    "x_bin = \"0\" * (m - len(x_bin)) + x_bin\n",
    "y_bin = \"0\" * (m - len(y_bin)) + y_bin\n",
    "resultado = \"0\" * (m - len(resultado)) + resultado\n",
    "\n",
    "# -- imprimindo os resultados\n",
    "print(\"{x} en binário é {x_bin}\".format(x=x, x_bin=x_bin))\n",
    "print(\"{y} en binário é {y_bin}\".format(y=y, y_bin=y_bin))\n",
    "print()\n",
    "print(x_bin)\n",
    "print(y_bin, '&')\n",
    "print('-' * (m + 2))\n",
    "print(resultado)"
   ]
  },
  {
   "cell_type": "code",
   "execution_count": 3,
   "metadata": {},
   "outputs": [
    {
     "name": "stdout",
     "output_type": "stream",
     "text": [
      "Entre com um valor de x: 2\n",
      "Entre com um valor de y: 3\n",
      "2 en binário é 10\n",
      "3 en binário é 11\n",
      "\n",
      "10\n",
      "11 &\n",
      "----\n",
      "01\n"
     ]
    }
   ],
   "source": [
    "# - Bitwise XOR\n",
    "x = int(input(\"Entre com um valor de x: \"))\n",
    "y = int(input(\"Entre com um valor de y: \"))\n",
    "\n",
    "# -- para visualizar a forma binária do número\n",
    "x_bin = \"{0:b}\".format(x)\n",
    "y_bin = \"{0:b}\".format(y)\n",
    "\n",
    "# -- executando a operação de bitwise and\n",
    "resultado = \"{0:b}\".format(x ^ y)\n",
    "\n",
    "# -- apenas deixando os valores binário com mesmo tamanho para facilitar a visualização das mesmas\n",
    "m = max(len(x_bin), len(y_bin), len(resultado))\n",
    "x_bin = \"0\" * (m - len(x_bin)) + x_bin\n",
    "y_bin = \"0\" * (m - len(y_bin)) + y_bin\n",
    "resultado = \"0\" * (m - len(resultado)) + resultado\n",
    "\n",
    "# -- imprimindo os resultados\n",
    "print(\"{x} en binário é {x_bin}\".format(x=x, x_bin=x_bin))\n",
    "print(\"{y} en binário é {y_bin}\".format(y=y, y_bin=y_bin))\n",
    "print()\n",
    "print(x_bin)\n",
    "print(y_bin, '&')\n",
    "print('-' * (m + 2))\n",
    "print(resultado)"
   ]
  },
  {
   "cell_type": "code",
   "execution_count": 8,
   "metadata": {},
   "outputs": [
    {
     "name": "stdout",
     "output_type": "stream",
     "text": [
      "Entre com um valor de x: 2\n",
      "Entre com um valor de y: 3\n",
      "2 en binário é 10\n",
      "\n",
      "2 >> 3 = 10 >> 3 = 00 = 2\n"
     ]
    }
   ],
   "source": [
    "# - Bitwise deslocamento ara direita\n",
    "x = int(input(\"Entre com um valor de x: \"))\n",
    "y = int(input(\"Entre com um valor de y: \"))\n",
    "\n",
    "# -- para visualizar a forma binária do número\n",
    "x_bin = \"{0:b}\".format(x)\n",
    "y_bin = \"{0:b}\".format(y)\n",
    "\n",
    "# -- executando a operação de bitwise and\n",
    "resultado = \"{0:b}\".format(x >> y)\n",
    "\n",
    "# -- apenas deixando os valores binário com mesmo tamanho para facilitar a visualização das mesmas\n",
    "m = max(len(x_bin), len(resultado))\n",
    "x_bin = \"0\" * (m - len(x_bin)) + x_bin\n",
    "resultado = \"0\" * (m - len(resultado)) + resultado\n",
    "\n",
    "# -- imprimindo os resultados\n",
    "print(\"{x} en binário é {x_bin}\".format(x=x, x_bin=x_bin))\n",
    "print()\n",
    "print(\"{x} >> {y} = {x_bin} >> {y} = {resultado} = {r}\".format(x=x, y=y, x_bin=x_bin, resultado=resultado, r=x))"
   ]
  },
  {
   "cell_type": "code",
   "execution_count": 7,
   "metadata": {},
   "outputs": [
    {
     "name": "stdout",
     "output_type": "stream",
     "text": [
      "Entre com um valor de x: 2\n",
      "Entre com um valor de y: 3\n",
      "2 en binário é 00010\n",
      "\n",
      "2 << 3 = 00010 << 3 = 10000 = 2\n"
     ]
    }
   ],
   "source": [
    "# - Bitwise deslocamento para esquerda\n",
    "x = int(input(\"Entre com um valor de x: \"))\n",
    "y = int(input(\"Entre com um valor de y: \"))\n",
    "\n",
    "# -- para visualizar a forma binária do número\n",
    "x_bin = \"{0:b}\".format(x)\n",
    "y_bin = \"{0:b}\".format(y)\n",
    "\n",
    "# -- executando a operação de bitwise and\n",
    "resultado = \"{0:b}\".format(x << y)\n",
    "\n",
    "# -- apenas deixando os valores binário com mesmo tamanho para facilitar a visualização das mesmas\n",
    "m = max(len(x_bin), len(resultado))\n",
    "x_bin = \"0\" * (m - len(x_bin)) + x_bin\n",
    "resultado = \"0\" * (m - len(resultado)) + resultado\n",
    "\n",
    "# -- imprimindo os resultados\n",
    "print(\"{x} en binário é {x_bin}\".format(x=x, x_bin=x_bin))\n",
    "print()\n",
    "print(\"{x} << {y} = {x_bin} << {y} = {resultado} = {r}\".format(x=x, y=y, x_bin=x_bin, resultado=resultado, r=x))"
   ]
  },
  {
   "cell_type": "code",
   "execution_count": 12,
   "metadata": {},
   "outputs": [
    {
     "name": "stdout",
     "output_type": "stream",
     "text": [
      "Entre com número: -9\n",
      "Negativo\n",
      "--------\n"
     ]
    }
   ],
   "source": [
    "# Controle de Fluxo\n",
    "# ----------------------------------- #\n",
    "\n",
    "# - If...else...\n",
    "\"\"\"\n",
    "Esse programa para verificar se um \n",
    "número é positivo ou negativo\n",
    "\"\"\"\n",
    "\n",
    "num = int(input(\"Entre com número: \"))\n",
    "expressao = num >=0\n",
    "\n",
    "if expressao:\n",
    "    print(\"Positivo\")\n",
    "else:\n",
    "    print(\"Negativo\")\n",
    "    print(\"--------\")"
   ]
  },
  {
   "cell_type": "code",
   "execution_count": 22,
   "metadata": {},
   "outputs": [
    {
     "name": "stdout",
     "output_type": "stream",
     "text": [
      "0\n",
      "1\n",
      "2\n",
      "------------------------------\n",
      "-3\n",
      "-2\n",
      "-1\n",
      "0\n",
      "1\n",
      "2\n",
      "------------------------------\n",
      "-3\n",
      "-1\n",
      "1\n"
     ]
    }
   ],
   "source": [
    "# - Laço For\n",
    "\"\"\"\n",
    "Esse programa imprime todos números inteiros\n",
    "entre zero e o valor informado 'num'.\n",
    "\"\"\"\n",
    "num = 3\n",
    "\n",
    "\"\"\"\n",
    "range cria uma sequência de número inteiros\n",
    "entre 0 e o número informado variando de 1 em 1\n",
    "\"\"\"\n",
    "sequencia = list(range(num))\n",
    "for val in sequencia:\n",
    "    print(val)\n",
    "    \n",
    "del sequencia, val\n",
    "print(\"------------------------------\")\n",
    "\"\"\"\n",
    "range permite alterar o ponto de partida\n",
    "nesse exemplo a sequência vai de -10 até o\n",
    "número estabelecido\n",
    "\"\"\"\n",
    "sequencia = list(range(-3, num))\n",
    "for val in sequencia:\n",
    "    print(val)\n",
    "    \n",
    "del sequencia, val\n",
    "print(\"------------------------------\")\n",
    "\"\"\"\n",
    "range também permite alterar os passos da\n",
    "sequencia, por exemplo, nesse exemplo a\n",
    "sequencia vai de -10 até o número estabelecido\n",
    "de 2 em 2.\n",
    "\"\"\"\n",
    "sequencia = list(range(-3, num, 2))\n",
    "for val in sequencia:\n",
    "    print(val)\n",
    "    \n",
    "del sequencia, val"
   ]
  },
  {
   "cell_type": "code",
   "execution_count": 1,
   "metadata": {},
   "outputs": [
    {
     "name": "stdout",
     "output_type": "stream",
     "text": [
      "0\n",
      "1\n",
      "2\n",
      "fim...\n"
     ]
    }
   ],
   "source": [
    "# - Laço While\n",
    "\n",
    "\"\"\"\n",
    "Esse programa imprime todos números inteiros \n",
    "entre zero e o valor informado `num`.\n",
    "\"\"\"\n",
    "num = 3\n",
    "i = 0\n",
    "\n",
    "expressao = i < num\n",
    "while expressao:\n",
    "    print(i)\n",
    "    i += 1\n",
    "    expressao = i < num\n",
    "\n",
    "print('fim...')"
   ]
  },
  {
   "cell_type": "code",
   "execution_count": 2,
   "metadata": {},
   "outputs": [
    {
     "name": "stdout",
     "output_type": "stream",
     "text": [
      "Olá Raphael!!!\n",
      "retorno da função é :  None\n"
     ]
    }
   ],
   "source": [
    "# Funções\n",
    "# ----------------------------------- #\n",
    "\n",
    "# - Corpo\n",
    "\n",
    "# -- definindo uma função simples\n",
    "# -- que omite a claúsula `return`\n",
    "def saudacoes(nome):\n",
    "    \"\"\" \n",
    "    Imprime uma saudação dado um nome.\n",
    "    \n",
    "    :param nome: str.\n",
    "        nome de alguém\n",
    "    \"\"\"\n",
    "    print(\"Olá {}!!!\".format(nome))\n",
    "    \n",
    "\n",
    "# -- chamando a função\n",
    "retorno = saudacoes(\"Raphael\")\n",
    "\n",
    "# -- verificando o que a função returna\n",
    "print(\"retorno da função é : \", retorno)"
   ]
  },
  {
   "cell_type": "code",
   "execution_count": 3,
   "metadata": {},
   "outputs": [
    {
     "name": "stdout",
     "output_type": "stream",
     "text": [
      "2\n",
      "2\n",
      "2\n",
      "0\n",
      "14\n"
     ]
    }
   ],
   "source": [
    "# - Argumentos arbitrários\n",
    "\n",
    "# -- manipulação dos argumentos\n",
    "# -- de uma função\n",
    "def max(a, b):\n",
    "    \"\"\"\n",
    "    retorna o valor máximo entre a e b\n",
    "    \n",
    "    :param a: numeric.\n",
    "        algum valor númerico\n",
    "    :param b: numeric.\n",
    "        algum valor númerico\n",
    "        \n",
    "    :returns numeric: \n",
    "    \"\"\"\n",
    "    if a > b:\n",
    "        return a\n",
    "    \n",
    "    return b\n",
    "    \n",
    "\n",
    "# -- chamando a função\n",
    "print(max(2, 1))\n",
    "print(max(1, 2)) # -- como seria a execução com valores invertidos?\n",
    "# -- max(1) # função espera 2 argumentos, não 1\n",
    "# -- max() # função espera 2 argumentos, não 0\n",
    "\n",
    "def max_default(a, b=0):\n",
    "    \"\"\"\n",
    "    retorna o valor máximo entre a e b\n",
    "    \n",
    "    :param a: numeric.\n",
    "        algum valor númerico\n",
    "    :param b: numeric.\n",
    "        algum valor númerico\n",
    "        \n",
    "    :returns numeric: \n",
    "    \"\"\"\n",
    "    if a > b:\n",
    "        return a\n",
    "    \n",
    "    return b\n",
    "    \n",
    "print(max_default(1, 2))\n",
    "print(max_default(-1)) # -- o segundo argumento é opcional\n",
    "# -- max() # função espera 2 argumentos, não 0\n",
    "\n",
    "def max_n_valores(*valores):\n",
    "    \"\"\"\n",
    "    retorna o valor máximo entre os valores dados\n",
    "    \n",
    "    :param *valores: numeric.\n",
    "        n valores numéricos\n",
    "        \n",
    "    :returns numeric: \n",
    "    \"\"\"\n",
    "    if len(valores) == 0:\n",
    "        print(\"ERROR: Pelo menos um valor é necessário!\")\n",
    "        return None\n",
    "    \n",
    "    max_valor = valores[0]\n",
    "    for v in valores:\n",
    "        if max_valor < v:\n",
    "            max_valor =v\n",
    "            \n",
    "    return max_valor\n",
    "\n",
    "\n",
    "print(max_n_valores(8, 1, 14, 5, 0))"
   ]
  },
  {
   "cell_type": "code",
   "execution_count": 5,
   "metadata": {},
   "outputs": [
    {
     "name": "stdout",
     "output_type": "stream",
     "text": [
      "Olá Raphael!!!\n",
      "Olá Raphael!!!\n"
     ]
    }
   ],
   "source": [
    "# - Função Anônima\n",
    "\n",
    "# -- definindo uma função simples\n",
    "# -- que omite a claúsula `return`\n",
    "def saudacoes(nome):\n",
    "    \"\"\" \n",
    "    Imprime uma saudação dado um nome.\n",
    "    \n",
    "    :param nome: str.\n",
    "        nome de alguém\n",
    "    \"\"\"\n",
    "    print(\"Olá {}!!!\".format(nome))\n",
    "    \n",
    "\n",
    "# -- chamando a função\n",
    "saudacoes(\"Raphael\")\n",
    "\n",
    "ano_saudacoes = lambda nome: print(\"Olá {}!!!\".format(nome))\n",
    "\n",
    "ano_saudacoes(\"Raphael\")"
   ]
  },
  {
   "cell_type": "code",
   "execution_count": 6,
   "metadata": {},
   "outputs": [
    {
     "name": "stdout",
     "output_type": "stream",
     "text": [
      "[1, 3, 5, 7, 9]\n",
      "[0, 1, 4, 9, 16, 25, 36, 49, 64, 81]\n"
     ]
    }
   ],
   "source": [
    "# - Map\n",
    "\"\"\"\n",
    "exemplo de utilização da\n",
    "função lambda com as funções\n",
    "map e filter\n",
    "\"\"\"\n",
    "\n",
    "# -- criando um range apenas de números impares\n",
    "impares = filter(lambda x: x%2 != 0, range(10))\n",
    "\n",
    "print(list(impares))\n",
    "\n",
    "# -- criando um range números de 0 a 9 ao quadrado\n",
    "quadrados = map(lambda x: x**2, range(10))\n",
    "\n",
    "print(list(quadrados))"
   ]
  },
  {
   "cell_type": "code",
   "execution_count": null,
   "metadata": {},
   "outputs": [],
   "source": [
    "\"\"\"\n",
    "Além disso, em meu github (Links para um site externo)Links para um site externo disponibilizo um material com explicações e exercícios para fixação do que foi visto em sala.\n",
    "\n",
    "https://github.com/raphaelcampos/introducao-linguagens-estatisticas (Links para um site externo)Links para um site externo\n",
    "\n",
    "Seguem algumas outras referências:\n",
    "\n",
    "http://www.pythontutor.com/\n",
    "\n",
    "https://www.python.org/community/sigs/current/edu-sig (Links para um site externo)Links para um site externo\n",
    "\n",
    "https://wiki.python.org/moin/BeginnersGuide/Programmers\n",
    "\"\"\""
   ]
  }
 ],
 "metadata": {
  "kernelspec": {
   "display_name": "Python 3",
   "language": "python",
   "name": "python3"
  },
  "language_info": {
   "codemirror_mode": {
    "name": "ipython",
    "version": 3
   },
   "file_extension": ".py",
   "mimetype": "text/x-python",
   "name": "python",
   "nbconvert_exporter": "python",
   "pygments_lexer": "ipython3",
   "version": "3.6.5"
  }
 },
 "nbformat": 4,
 "nbformat_minor": 2
}
