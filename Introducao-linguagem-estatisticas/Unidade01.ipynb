{
 "cells": [
  {
   "cell_type": "code",
   "execution_count": 1,
   "metadata": {},
   "outputs": [
    {
     "name": "stdout",
     "output_type": "stream",
     "text": [
      "10 0.5 Legal!\n"
     ]
    }
   ],
   "source": [
    "# variaveis\n",
    "# ----------------------------------- #\n",
    "\n",
    "a = 10\n",
    "b = 0.5\n",
    "c = \"Legal!\"\n",
    "\n",
    "print(a, b, c)"
   ]
  },
  {
   "cell_type": "code",
   "execution_count": 2,
   "metadata": {},
   "outputs": [
    {
     "name": "stdout",
     "output_type": "stream",
     "text": [
      "10 0.5 Legal!\n"
     ]
    }
   ],
   "source": [
    "a, b, c = 10, 0.5, \"Legal!\"\n",
    "\n",
    "print(a, b, c)"
   ]
  },
  {
   "cell_type": "code",
   "execution_count": 4,
   "metadata": {},
   "outputs": [
    {
     "name": "stdout",
     "output_type": "stream",
     "text": [
      "Mesmo Valor Mesmo Valor Mesmo Valor\n"
     ]
    }
   ],
   "source": [
    "a = b = c = \"Mesmo Valor\"\n",
    "\n",
    "print (a, b, c)"
   ]
  },
  {
   "cell_type": "code",
   "execution_count": 5,
   "metadata": {},
   "outputs": [
    {
     "name": "stdout",
     "output_type": "stream",
     "text": [
      "<class 'int'> True\n"
     ]
    }
   ],
   "source": [
    "# Tipos\n",
    "# ----------------------------------- #\n",
    "\n",
    "valor = 5\n",
    "print(type(valor), isinstance(valor, int))"
   ]
  },
  {
   "cell_type": "code",
   "execution_count": 6,
   "metadata": {},
   "outputs": [
    {
     "name": "stdout",
     "output_type": "stream",
     "text": [
      "<class 'int'> True\n"
     ]
    }
   ],
   "source": [
    "valor = 55555555555555555555555555555555555555555555555555555555555555555555555555\n",
    "print (type(valor), isinstance(valor, int))"
   ]
  },
  {
   "cell_type": "code",
   "execution_count": 7,
   "metadata": {},
   "outputs": [
    {
     "name": "stdout",
     "output_type": "stream",
     "text": [
      "<class 'float'> True\n"
     ]
    }
   ],
   "source": [
    "valor = 5.0\n",
    "print(type(valor), isinstance(valor, float))"
   ]
  },
  {
   "cell_type": "code",
   "execution_count": 8,
   "metadata": {},
   "outputs": [
    {
     "name": "stdout",
     "output_type": "stream",
     "text": [
      "<class 'complex'> False\n"
     ]
    }
   ],
   "source": [
    "valor = 5.0 + 4j\n",
    "print(type(valor), isinstance(valor, float))"
   ]
  },
  {
   "cell_type": "code",
   "execution_count": 10,
   "metadata": {},
   "outputs": [],
   "source": [
    "# Conversão de tipos\n",
    "# ----------------------------------- #\n",
    "\n",
    "float_to_int = int(5.3)\n",
    "\n",
    "# - convertando str na base 10 para inteiro\n",
    "str_to_int = int(\"10\")\n",
    "\n",
    "# - convertando str na base 2 para inteiro\n",
    "str2_to_int = int(\"10\",2)\n",
    "\n",
    "# - convertando inteiro para booleano\n",
    "int_to_true = bool(2)\n",
    "int_to_false = bool(0)\n",
    "\n",
    "# - convertendo float para booleano\n",
    "float_to_true = bool(2.0)\n",
    "float_to_false = bool(0.0)\n",
    "\n",
    "# - convertendo str para booleano\n",
    "str_to_true = bool(\"true\")\n",
    "str_to_false = bool(\"false\")\n",
    "\n",
    "# - convertendo Nome para booleno\n",
    "nome_to_false = bool(None)"
   ]
  },
  {
   "cell_type": "code",
   "execution_count": 11,
   "metadata": {},
   "outputs": [],
   "source": [
    "# Exemplos de identificadores corretos\n",
    "# ----------------------------------- #\n",
    "\n",
    "# - apenas letras minúsculas\n",
    "identificador = 1\n",
    "\n",
    "# - identificador formado por letras minúsculas e underscope\n",
    "meu_primeiro_identificador = 1\n",
    "\n",
    "# - letras minúsculas, maiúsuculas\n",
    "meuPrimeiroIdentificador = 1\n",
    "\n",
    "# - letras minúsculas, maiúsculas e dígitos\n",
    "meuIdentificador1 = 1\n",
    "\n",
    "# - letras minúsculas, maiúsculas, underscore e dígito\n",
    "meu_Identificador_2 = 1"
   ]
  },
  {
   "cell_type": "code",
   "execution_count": 16,
   "metadata": {},
   "outputs": [
    {
     "name": "stdout",
     "output_type": "stream",
     "text": [
      "01\n"
     ]
    },
    {
     "data": {
      "text/plain": [
       "' \\n Isso é um comentário \\n mais longo que o \\n anterior \\n'"
      ]
     },
     "execution_count": 16,
     "metadata": {},
     "output_type": "execute_result"
    }
   ],
   "source": [
    "# Comentários\n",
    "# ----------------------------------- #\n",
    "\n",
    "# - Isso é um comentário de uma linha\n",
    "print(\"01\")\n",
    "\n",
    "# isso é um comentário\n",
    "# mais longo que o \n",
    "# anterior\n",
    "\n",
    "\"\"\" \n",
    " Isso é um comentário \n",
    " mais longo que o \n",
    " anterior \n",
    "\"\"\""
   ]
  },
  {
   "cell_type": "code",
   "execution_count": 1,
   "metadata": {},
   "outputs": [
    {
     "name": "stdout",
     "output_type": "stream",
     "text": [
      "Entre com valor da variável x: a\n"
     ]
    }
   ],
   "source": [
    "# Comandos Input e Print\n",
    "# ----------------------------------- #\n",
    "\n",
    "# - Comando para manipulação da entrada\n",
    "x = input(\"Entre com valor da variável x: \")"
   ]
  },
  {
   "cell_type": "code",
   "execution_count": 2,
   "metadata": {},
   "outputs": [
    {
     "name": "stdout",
     "output_type": "stream",
     "text": [
      "Entre com valor da variável x: 10\n",
      "Resultado 20\n"
     ]
    }
   ],
   "source": [
    "# - Convertendo para o tipo desejado\n",
    "x = int(input(\"Entre com valor da variável x: \"))\n",
    "\n",
    "# - Comando para manipulação da saída\n",
    "print(\"Resultado\", x + 10)"
   ]
  },
  {
   "cell_type": "code",
   "execution_count": 5,
   "metadata": {},
   "outputs": [
    {
     "name": "stdout",
     "output_type": "stream",
     "text": [
      "| x | y | x and y | \n",
      "------------------- \n",
      "| T | T |    T    |\n",
      "| T | F |    F    |\n",
      "| F | T |    F    |\n",
      "| F | F |    F    |\n"
     ]
    }
   ],
   "source": [
    "# Operadores Booleanos\n",
    "# ----------------------------------- #\n",
    "\n",
    "# -- tabela verade do and\n",
    "print('| x | y | x and y | ')\n",
    "print('------------------- ')\n",
    "print('| T | T |   ', str(True and True)[0], '   |')\n",
    "print('| T | F |   ', str(True and False)[0], '   |')\n",
    "print('| F | T |   ', str(False and True)[0], '   |')\n",
    "print('| F | F |   ', str(False and False)[0], '   |')"
   ]
  },
  {
   "cell_type": "code",
   "execution_count": 6,
   "metadata": {},
   "outputs": [
    {
     "name": "stdout",
     "output_type": "stream",
     "text": [
      "| x | y | x and y | \n",
      "------------------- \n",
      "| T | T |    T    |\n",
      "| T | F |    T    |\n",
      "| F | T |    T    |\n",
      "| F | F |    F    |\n"
     ]
    }
   ],
   "source": [
    "# -- tabela verade do or\n",
    "print('| x | y | x or y | ')\n",
    "print('------------------- ')\n",
    "print('| T | T |   ', str(True or True)[0], '   |')\n",
    "print('| T | F |   ', str(True or False)[0], '   |')\n",
    "print('| F | T |   ', str(False or True)[0], '   |')\n",
    "print('| F | F |   ', str(False or False)[0], '   |')"
   ]
  },
  {
   "cell_type": "code",
   "execution_count": 7,
   "metadata": {},
   "outputs": [
    {
     "name": "stdout",
     "output_type": "stream",
     "text": [
      "| x | y | x xor y | \n",
      "------------------- \n",
      "| T | T |    F    |\n",
      "| T | F |    T    |\n",
      "| F | T |    T    |\n",
      "| F | F |    F    |\n"
     ]
    }
   ],
   "source": [
    "# -- tabela verade do xor\n",
    "print('| x | y | x xor y | ')\n",
    "print('------------------- ')\n",
    "print('| T | T |   ', str(True ^ True)[0], '   |')\n",
    "print('| T | F |   ', str(True ^ False)[0], '   |')\n",
    "print('| F | T |   ', str(False ^ True)[0], '   |')\n",
    "print('| F | F |   ', str(False ^ False)[0], '   |')"
   ]
  },
  {
   "cell_type": "code",
   "execution_count": 9,
   "metadata": {},
   "outputs": [
    {
     "name": "stdout",
     "output_type": "stream",
     "text": [
      "| x | !x | \n",
      "---------- \n",
      "| T | F  |\n",
      "| F | T  |\n"
     ]
    }
   ],
   "source": [
    "# -- tabela verade do not\n",
    "print('| x | !x | ')\n",
    "print('---------- ')\n",
    "print('| T |', str(not True)[0], ' |')\n",
    "print('| F |', str(not False)[0], ' |')"
   ]
  },
  {
   "cell_type": "code",
   "execution_count": 13,
   "metadata": {},
   "outputs": [
    {
     "name": "stdout",
     "output_type": "stream",
     "text": [
      "Entre com um valor de x: 2\n",
      "Entre com um valor de y: 3\n",
      "2 en binário é 10\n",
      "3 en binário é 11\n",
      "\n",
      "10\n",
      "11 &\n",
      "----\n",
      "10\n"
     ]
    }
   ],
   "source": [
    "# Operadores Bitwise\n",
    "# ----------------------------------- #\n",
    "\n",
    "# - Bitwise AND\n",
    "x = int(input(\"Entre com um valor de x: \"))\n",
    "y = int(input(\"Entre com um valor de y: \"))\n",
    "\n",
    "# -- para visualizar a forma binária do número\n",
    "x_bin = \"{0:b}\".format(x)\n",
    "y_bin = \"{0:b}\".format(y)\n",
    "\n",
    "# -- executando a operação de bitwise and\n",
    "resultado = \"{0:b}\".format(x & y)\n",
    "\n",
    "# -- apenas deixando os valores binário com mesmo tamanho para facilitar a visualização das mesmas\n",
    "m = max(len(x_bin), len(y_bin), len(resultado))\n",
    "x_bin = \"0\" * (m - len(x_bin)) + x_bin\n",
    "y_bin = \"0\" * (m - len(y_bin)) + y_bin\n",
    "resultado = \"0\" * (m - len(resultado)) + resultado\n",
    "\n",
    "# -- imprimindo os resultados\n",
    "print(\"{x} en binário é {x_bin}\".format(x=x, x_bin=x_bin))\n",
    "print(\"{y} en binário é {y_bin}\".format(y=y, y_bin=y_bin))\n",
    "print()\n",
    "print(x_bin)\n",
    "print(y_bin, '&')\n",
    "print('-' * (m + 2))\n",
    "print(resultado)"
   ]
  },
  {
   "cell_type": "code",
   "execution_count": null,
   "metadata": {},
   "outputs": [],
   "source": []
  }
 ],
 "metadata": {
  "kernelspec": {
   "display_name": "Python 3",
   "language": "python",
   "name": "python3"
  },
  "language_info": {
   "codemirror_mode": {
    "name": "ipython",
    "version": 3
   },
   "file_extension": ".py",
   "mimetype": "text/x-python",
   "name": "python",
   "nbconvert_exporter": "python",
   "pygments_lexer": "ipython3",
   "version": "3.6.5"
  }
 },
 "nbformat": 4,
 "nbformat_minor": 2
}
