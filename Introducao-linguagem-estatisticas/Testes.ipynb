{
 "cells": [
  {
   "cell_type": "code",
   "execution_count": 6,
   "metadata": {},
   "outputs": [
    {
     "name": "stdout",
     "output_type": "stream",
     "text": [
      "Digite um número para saber se é par ou impar: 4\n",
      "------------------\n",
      "Número é par\n"
     ]
    }
   ],
   "source": [
    "numero = float(input('Digite um número para saber se é par ou impar: '))\n",
    "numero = numero % 2\n",
    "\n",
    "print('------------------')\n",
    "\n",
    "if numero == 0:\n",
    "    print('Número é par')\n",
    "else:\n",
    "    print('Número é impar')"
   ]
  },
  {
   "cell_type": "code",
   "execution_count": null,
   "metadata": {},
   "outputs": [],
   "source": [
    "N = int(input())\n",
    "\n",
    "print(N)\n",
    "\n",
    "if N % 2 == 1:\n",
    "    print('Weird 1')\n",
    "elif N >= 2 and N <= 5:\n",
    "    print('Not Weird 2')\n",
    "elif N >= 6 and N <= 20:\n",
    "    print('Weird 3')\n",
    "elif N > 20:\n",
    "    print('Not Weird 4')\n",
    "else:\n",
    "    print('Weird 5')"
   ]
  },
  {
   "cell_type": "code",
   "execution_count": null,
   "metadata": {},
   "outputs": [],
   "source": []
  }
 ],
 "metadata": {
  "kernelspec": {
   "display_name": "Python 3",
   "language": "python",
   "name": "python3"
  },
  "language_info": {
   "codemirror_mode": {
    "name": "ipython",
    "version": 3
   },
   "file_extension": ".py",
   "mimetype": "text/x-python",
   "name": "python",
   "nbconvert_exporter": "python",
   "pygments_lexer": "ipython3",
   "version": "3.6.5"
  }
 },
 "nbformat": 4,
 "nbformat_minor": 2
}
