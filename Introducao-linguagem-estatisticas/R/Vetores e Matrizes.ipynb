{
 "cells": [
  {
   "cell_type": "markdown",
   "metadata": {},
   "source": [
    "# Estrutura de Dados\n",
    "\n",
    "\n",
    "## Vetores\n",
    "\n",
    "Vetor (vector) é a estrutura de dados básica em R. Ele contém elementos de um mesmo tipo. O tipo dos dados pode ser lógico (booleano), inteiro, douvle, character, complex ou raw.\n",
    "\n",
    "Em R um vetor é criada utilizando a função ```c()```."
   ]
  },
  {
   "cell_type": "code",
   "execution_count": null,
   "metadata": {},
   "outputs": [],
   "source": [
    "x = c(1,2,5,0,10)\n",
    "x"
   ]
  },
  {
   "cell_type": "code",
   "execution_count": null,
   "metadata": {},
   "outputs": [],
   "source": [
    "typeof(x)"
   ]
  },
  {
   "cell_type": "code",
   "execution_count": null,
   "metadata": {},
   "outputs": [],
   "source": []
  }
 ],
 "metadata": {
  "kernelspec": {
   "display_name": "R",
   "language": "R",
   "name": "ir"
  }
 },
 "nbformat": 4,
 "nbformat_minor": 2
}
