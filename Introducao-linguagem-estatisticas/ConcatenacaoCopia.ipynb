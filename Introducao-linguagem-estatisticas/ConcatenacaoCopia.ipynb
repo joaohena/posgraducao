{
 "cells": [
  {
   "cell_type": "code",
   "execution_count": 16,
   "metadata": {},
   "outputs": [
    {
     "name": "stdout",
     "output_type": "stream",
     "text": [
      "a :  [1 2 3]\n",
      "b :  [4 5 6]\n",
      "c :  [7 8 9]\n"
     ]
    }
   ],
   "source": [
    "import numpy as np\n",
    "\n",
    "a = np.array([1,2,3])\n",
    "b = np.array([4,5,6])\n",
    "c = np.arange(7,10)\n",
    "\n",
    "print(\"a : \",a)\n",
    "print(\"b : \",b)\n",
    "print(\"c : \",c)"
   ]
  },
  {
   "cell_type": "code",
   "execution_count": 3,
   "metadata": {},
   "outputs": [
    {
     "name": "stdout",
     "output_type": "stream",
     "text": [
      "[1 2 3 4 5 6]\n",
      "[4 5 6 1 2 3]\n"
     ]
    }
   ],
   "source": [
    "#concatenar\n",
    "print(np.concatenate((a,b)))\n",
    "print(np.concatenate((b,a)))"
   ]
  },
  {
   "cell_type": "code",
   "execution_count": 4,
   "metadata": {},
   "outputs": [
    {
     "name": "stdout",
     "output_type": "stream",
     "text": [
      "[1 2 3 4 5 6 7 8 9]\n"
     ]
    }
   ],
   "source": [
    "print(np.concatenate((a, b, c)))"
   ]
  },
  {
   "cell_type": "code",
   "execution_count": 21,
   "metadata": {},
   "outputs": [
    {
     "data": {
      "text/plain": [
       "array([1, 2, 3, 4, 5, 6, 7, 8, 9])"
      ]
     },
     "execution_count": 21,
     "metadata": {},
     "output_type": "execute_result"
    }
   ],
   "source": [
    "np.concatenate([a, b, c])\n",
    "\n",
    "#np.concatenate(a, b, c) # forma errada de concatenar"
   ]
  },
  {
   "cell_type": "code",
   "execution_count": 22,
   "metadata": {},
   "outputs": [
    {
     "name": "stdout",
     "output_type": "stream",
     "text": [
      "[[9. 6.]\n",
      " [7. 1.]]\n",
      "----\n",
      "[[9. 7.]\n",
      " [3. 5.]]\n"
     ]
    }
   ],
   "source": [
    "# concatenando matrizes\n",
    "a = np.floor(10 * np.random.random((2,2)))\n",
    "print(a)\n",
    "\n",
    "print(\"----\")\n",
    "\n",
    "b = np.floor(10 * np.random.random((2,2)))\n",
    "print(b)"
   ]
  },
  {
   "cell_type": "code",
   "execution_count": 25,
   "metadata": {},
   "outputs": [
    {
     "name": "stdout",
     "output_type": "stream",
     "text": [
      "[[9. 6.]\n",
      " [7. 1.]\n",
      " [9. 7.]\n",
      " [3. 5.]]\n",
      "----\n",
      "[[9. 6. 9. 7.]\n",
      " [7. 1. 3. 5.]]\n"
     ]
    }
   ],
   "source": [
    "# equivale ao np.vstack((a, b))\n",
    "print(np.concatenate((a,b), axis=0))\n",
    "\n",
    "print(\"----\")\n",
    "\n",
    "# equivale ao np.hstack((a, b))\n",
    "print(np.concatenate((a,b), axis=1))"
   ]
  },
  {
   "cell_type": "code",
   "execution_count": 26,
   "metadata": {},
   "outputs": [
    {
     "name": "stdout",
     "output_type": "stream",
     "text": [
      "[[9. 6.]\n",
      " [7. 1.]\n",
      " [9. 7.]\n",
      " [3. 5.]]\n",
      "----\n",
      "[[9. 6. 9. 7.]\n",
      " [7. 1. 3. 5.]]\n"
     ]
    }
   ],
   "source": [
    "print(np.vstack((a, b)))\n",
    "print(\"----\")\n",
    "print(np.hstack((a, b)))"
   ]
  },
  {
   "cell_type": "code",
   "execution_count": 40,
   "metadata": {},
   "outputs": [
    {
     "name": "stdout",
     "output_type": "stream",
     "text": [
      "[ 0  1  2  3  4  5  6  7  8  9 10 11]\n",
      "True 4441554016 4441554016\n"
     ]
    },
    {
     "data": {
      "text/plain": [
       "(3, 4)"
      ]
     },
     "execution_count": 40,
     "metadata": {},
     "output_type": "execute_result"
    }
   ],
   "source": [
    "# copias\n",
    "\n",
    "a = np.arange(12)\n",
    "print(a)\n",
    "\n",
    "b = a\n",
    "\n",
    "# a e b são o mesma instância\n",
    "print(b is a, id(b), id(a))\n",
    "\n",
    "b.shape = 3,4 # muda a\n",
    "a.shape"
   ]
  },
  {
   "cell_type": "code",
   "execution_count": 32,
   "metadata": {},
   "outputs": [
    {
     "name": "stdout",
     "output_type": "stream",
     "text": [
      "4441513216\n",
      "4441513216\n"
     ]
    }
   ],
   "source": [
    "# mesma instância\n",
    "def f(x):\n",
    "    print(id(x))\n",
    "    \n",
    "print(id(a))\n",
    "f(a)"
   ]
  },
  {
   "cell_type": "code",
   "execution_count": 33,
   "metadata": {},
   "outputs": [
    {
     "name": "stdout",
     "output_type": "stream",
     "text": [
      "4441513216\n",
      "4441551616\n"
     ]
    }
   ],
   "source": [
    "# gerando uma cópia\n",
    "def f(x):\n",
    "    print(id(x.copy()))\n",
    "    \n",
    "print(id(a))\n",
    "f(a)"
   ]
  },
  {
   "cell_type": "code",
   "execution_count": 41,
   "metadata": {},
   "outputs": [
    {
     "data": {
      "text/plain": [
       "array([[ 0,  1,  2,  3],\n",
       "       [ 4,  5,  6,  7],\n",
       "       [ 8,  9, 10, 11]])"
      ]
     },
     "execution_count": 41,
     "metadata": {},
     "output_type": "execute_result"
    }
   ],
   "source": [
    "# sclicing com copy (fazer uma view)\n",
    "s = a[:, 1:3].copy()\n",
    "s[:] = 10\n",
    "a\n",
    "\n",
    "# sclicing sem copy\n",
    "s = a[:, 1:3]\n",
    "s[:] = 10\n",
    "a"
   ]
  },
  {
   "cell_type": "code",
   "execution_count": 49,
   "metadata": {},
   "outputs": [
    {
     "name": "stdout",
     "output_type": "stream",
     "text": [
      "False\n",
      "False\n",
      "[[ 0  1  2  3]\n",
      " [ 4  5  6  7]\n",
      " [ 8  9 10 11]]\n",
      "---\n",
      "[[9999    1    2    3]\n",
      " [   4    5    6    7]\n",
      " [   8    9   10   11]]\n"
     ]
    }
   ],
   "source": [
    "# um novo objeto com um novo data é criado\n",
    "d = a.copy()\n",
    "\n",
    "print(d is a)\n",
    "#não compartilha nada com a\n",
    "print(d.base is a)\n",
    "\n",
    "d[0,0] = 9999\n",
    "print(a)\n",
    "print(\"---\")\n",
    "print(d)"
   ]
  },
  {
   "cell_type": "code",
   "execution_count": null,
   "metadata": {},
   "outputs": [],
   "source": []
  }
 ],
 "metadata": {
  "kernelspec": {
   "display_name": "Python 3",
   "language": "python",
   "name": "python3"
  },
  "language_info": {
   "codemirror_mode": {
    "name": "ipython",
    "version": 3
   },
   "file_extension": ".py",
   "mimetype": "text/x-python",
   "name": "python",
   "nbconvert_exporter": "python",
   "pygments_lexer": "ipython3",
   "version": "3.6.5"
  }
 },
 "nbformat": 4,
 "nbformat_minor": 2
}
