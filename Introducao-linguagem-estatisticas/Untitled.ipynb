{
 "cells": [
  {
   "cell_type": "code",
   "execution_count": 1,
   "metadata": {},
   "outputs": [
    {
     "name": "stdout",
     "output_type": "stream",
     "text": [
      "set()\n",
      "{1, 2, 3}\n",
      "{(8, 4, 6), 'mouse'}\n",
      "{1, 2, 4, 5}\n",
      "Uniao:\n",
      "Intersecao\n",
      "Dif.:\n",
      "Dif.:\n",
      "Dif. simetrica:\n",
      "É disjunto?\n"
     ]
    },
    {
     "data": {
      "text/plain": [
       "(None, False)"
      ]
     },
     "execution_count": 1,
     "metadata": {},
     "output_type": "execute_result"
    }
   ],
   "source": [
    "# conjunto vazio\n",
    "conjunto = set()\n",
    "print(conjunto)\n",
    "\n",
    "# conjunto de inteiros\n",
    "conjunto = {1, 2, 3}\n",
    "print(conjunto)\n",
    "\n",
    "# conjunto de dados distintos\n",
    "conjunto = {\"mouse\", (8, 4, 6)}\n",
    "print(conjunto)\n",
    "\n",
    "# a partir de um outro iterável\n",
    "conjunto = set([1, 2, 4, 5, 5, 5, 2, 4])\n",
    "print(conjunto)\n",
    "\n",
    "A = {1,2,3}\n",
    "B = {3,4,5,6}\n",
    "\n",
    "# união\n",
    "print(\"Uniao:\"), (A | B, A.union(B))\n",
    "\n",
    "# interseção\n",
    "print(\"Intersecao\"), (A & B, A.intersection(B))\n",
    "\n",
    "# diferença\n",
    "print(\"Dif.:\"), (A - B, A.difference(B))\n",
    "print(\"Dif.:\"), (B - A, B.difference(A))\n",
    "\n",
    "# diferença simétrica\n",
    "print(\"Dif. simetrica:\"), (A ^ B, A.symmetric_difference(B))\n",
    "\n",
    "print(\"É disjunto?\"),(A.isdisjoint(B))"
   ]
  },
  {
   "cell_type": "code",
   "execution_count": null,
   "metadata": {},
   "outputs": [],
   "source": []
  }
 ],
 "metadata": {
  "kernelspec": {
   "display_name": "Python 3",
   "language": "python",
   "name": "python3"
  },
  "language_info": {
   "codemirror_mode": {
    "name": "ipython",
    "version": 3
   },
   "file_extension": ".py",
   "mimetype": "text/x-python",
   "name": "python",
   "nbconvert_exporter": "python",
   "pygments_lexer": "ipython3",
   "version": "3.6.5"
  }
 },
 "nbformat": 4,
 "nbformat_minor": 2
}
