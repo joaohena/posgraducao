{
 "cells": [
  {
   "cell_type": "code",
   "execution_count": 1,
   "metadata": {},
   "outputs": [
    {
     "data": {
      "text/plain": [
       "'\\nEmenta da Unidade:\\n\\n▪ Listas \\n▪ Tuplas \\n▪ Conjuntos \\n▪ Dicionários \\n▪ Strings \\n▪ Módulos\\n'"
      ]
     },
     "execution_count": 1,
     "metadata": {},
     "output_type": "execute_result"
    }
   ],
   "source": [
    "\"\"\"\n",
    "Ementa da Unidade:\n",
    "\n",
    "▪ Listas \n",
    "▪ Tuplas \n",
    "▪ Conjuntos \n",
    "▪ Dicionários \n",
    "▪ Strings \n",
    "▪ Módulos\n",
    "\"\"\""
   ]
  },
  {
   "cell_type": "code",
   "execution_count": 2,
   "metadata": {},
   "outputs": [],
   "source": [
    "# Lista\n",
    "\n",
    "# - lista vazia\n",
    "lista = []\n",
    "\n",
    "# - lista de inteiros\n",
    "lista = [1, 2, 3]\n",
    "\n",
    "# - lista com diferentes tipos de dados\n",
    "lista = [1, \"Hello\", 3.4]\n",
    "\n",
    "# - lista aninhada\n",
    "lista = [\"mouse\", [8, 4, 6], ['a']]"
   ]
  },
  {
   "cell_type": "code",
   "execution_count": 3,
   "metadata": {},
   "outputs": [
    {
     "name": "stdout",
     "output_type": "stream",
     "text": [
      "[2, 3, 4]\n"
     ]
    }
   ],
   "source": [
    "numbers = [2, 3, 4]\n",
    "print(numbers)"
   ]
  },
  {
   "cell_type": "code",
   "execution_count": 5,
   "metadata": {},
   "outputs": [
    {
     "name": "stdout",
     "output_type": "stream",
     "text": [
      "True\n"
     ]
    }
   ],
   "source": [
    "print(3 >= 3)"
   ]
  },
  {
   "cell_type": "code",
   "execution_count": 6,
   "metadata": {},
   "outputs": [
    {
     "name": "stdout",
     "output_type": "stream",
     "text": [
      "1*2*3*4\n"
     ]
    }
   ],
   "source": [
    "print( 1, 2, 3, 4, sep='*')"
   ]
  },
  {
   "cell_type": "code",
   "execution_count": 7,
   "metadata": {},
   "outputs": [
    {
     "name": "stdout",
     "output_type": "stream",
     "text": [
      "[0, 1, 4, 9]\n"
     ]
    }
   ],
   "source": [
    "n = [x*x for x in range(4)]\n",
    "print(n)"
   ]
  },
  {
   "cell_type": "code",
   "execution_count": 8,
   "metadata": {},
   "outputs": [
    {
     "name": "stdout",
     "output_type": "stream",
     "text": [
      "(1, 2, 3, 4)\n"
     ]
    }
   ],
   "source": [
    "print((1,2)+(3,4))"
   ]
  },
  {
   "cell_type": "code",
   "execution_count": 10,
   "metadata": {},
   "outputs": [
    {
     "name": "stdout",
     "output_type": "stream",
     "text": [
      "José, Raphael e João\n"
     ]
    }
   ],
   "source": [
    "names = \"{1}, {2} e {0}\".format('João', 'José', 'Raphael')\n",
    "print(names)"
   ]
  },
  {
   "cell_type": "code",
   "execution_count": 11,
   "metadata": {},
   "outputs": [
    {
     "name": "stdout",
     "output_type": "stream",
     "text": [
      "16 {1: 1, 2: 4, 3: 9, 5: 25}\n"
     ]
    }
   ],
   "source": [
    "squares = {1:1, 2:4, 3:9, 4:16, 5:25}  \n",
    "\n",
    "print(squares.pop(4),squares)"
   ]
  },
  {
   "cell_type": "code",
   "execution_count": 12,
   "metadata": {},
   "outputs": [
    {
     "name": "stdout",
     "output_type": "stream",
     "text": [
      "['P', 'y']\n"
     ]
    }
   ],
   "source": [
    "language = ['P', 'y', 't', 'h', 'o', 'n']\n",
    "print(language[:-4])"
   ]
  },
  {
   "cell_type": "code",
   "execution_count": null,
   "metadata": {},
   "outputs": [],
   "source": []
  }
 ],
 "metadata": {
  "kernelspec": {
   "display_name": "Python 3",
   "language": "python",
   "name": "python3"
  },
  "language_info": {
   "codemirror_mode": {
    "name": "ipython",
    "version": 3
   },
   "file_extension": ".py",
   "mimetype": "text/x-python",
   "name": "python",
   "nbconvert_exporter": "python",
   "pygments_lexer": "ipython3",
   "version": "3.6.5"
  }
 },
 "nbformat": 4,
 "nbformat_minor": 2
}
