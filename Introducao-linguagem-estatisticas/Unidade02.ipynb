{
 "cells": [
  {
   "cell_type": "code",
   "execution_count": 1,
   "metadata": {},
   "outputs": [
    {
     "data": {
      "text/plain": [
       "'\\nEmenta da Unidade:\\n\\n▪ Listas \\n▪ Tuplas \\n▪ Conjuntos \\n▪ Dicionários \\n▪ Strings \\n▪ Módulos\\n'"
      ]
     },
     "execution_count": 1,
     "metadata": {},
     "output_type": "execute_result"
    }
   ],
   "source": [
    "\"\"\"\n",
    "Ementa da Unidade:\n",
    "\n",
    "▪ Listas \n",
    "▪ Tuplas \n",
    "▪ Conjuntos \n",
    "▪ Dicionários \n",
    "▪ Strings \n",
    "▪ Módulos\n",
    "\"\"\""
   ]
  },
  {
   "cell_type": "code",
   "execution_count": 1,
   "metadata": {},
   "outputs": [],
   "source": [
    "# Lista\n",
    "\n",
    "# - lista vazia\n",
    "lista = []\n",
    "\n",
    "# - lista de inteiros\n",
    "lista = [1, 2, 3]\n",
    "\n",
    "# - lista com diferentes tipos de dados\n",
    "lista = [1, \"Hello\", 3.4]\n",
    "\n",
    "# - lista aninhada\n",
    "lista = [\"mouse\", [8, 4, 6], ['a']]"
   ]
  },
  {
   "cell_type": "code",
   "execution_count": null,
   "metadata": {},
   "outputs": [],
   "source": []
  }
 ],
 "metadata": {
  "kernelspec": {
   "display_name": "Python 3",
   "language": "python",
   "name": "python3"
  },
  "language_info": {
   "codemirror_mode": {
    "name": "ipython",
    "version": 3
   },
   "file_extension": ".py",
   "mimetype": "text/x-python",
   "name": "python",
   "nbconvert_exporter": "python",
   "pygments_lexer": "ipython3",
   "version": "3.6.5"
  }
 },
 "nbformat": 4,
 "nbformat_minor": 2
}
