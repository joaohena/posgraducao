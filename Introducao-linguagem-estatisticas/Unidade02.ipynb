{
 "cells": [
  {
   "cell_type": "code",
   "execution_count": 1,
   "metadata": {},
   "outputs": [
    {
     "data": {
      "text/plain": [
       "'\\nEmenta da Unidade:\\n\\n▪ Listas \\n▪ Tuplas \\n▪ Conjuntos \\n▪ Dicionários \\n▪ Strings \\n▪ Módulos\\n'"
      ]
     },
     "execution_count": 1,
     "metadata": {},
     "output_type": "execute_result"
    }
   ],
   "source": [
    "\"\"\"\n",
    "Ementa da Unidade:\n",
    "\n",
    "▪ Listas \n",
    "▪ Tuplas \n",
    "▪ Conjuntos \n",
    "▪ Dicionários \n",
    "▪ Strings \n",
    "▪ Módulos\n",
    "\"\"\""
   ]
  },
  {
   "cell_type": "code",
   "execution_count": 2,
   "metadata": {},
   "outputs": [],
   "source": [
    "# Lista\n",
    "\n",
    "# - lista vazia\n",
    "lista = []\n",
    "\n",
    "# - lista de inteiros\n",
    "lista = [1, 2, 3]\n",
    "\n",
    "# - lista com diferentes tipos de dados\n",
    "lista = [1, \"Hello\", 3.4]\n",
    "\n",
    "# - lista aninhada\n",
    "lista = [\"mouse\", [8, 4, 6], ['a']]"
   ]
  },
  {
   "cell_type": "code",
   "execution_count": 3,
   "metadata": {},
   "outputs": [
    {
     "name": "stdout",
     "output_type": "stream",
     "text": [
      "[2, 3, 4]\n"
     ]
    }
   ],
   "source": [
    "numbers = [2, 3, 4]\n",
    "print(numbers)"
   ]
  },
  {
   "cell_type": "code",
   "execution_count": 5,
   "metadata": {},
   "outputs": [
    {
     "name": "stdout",
     "output_type": "stream",
     "text": [
      "True\n"
     ]
    }
   ],
   "source": [
    "print(3 >= 3)"
   ]
  },
  {
   "cell_type": "code",
   "execution_count": 6,
   "metadata": {},
   "outputs": [
    {
     "name": "stdout",
     "output_type": "stream",
     "text": [
      "1*2*3*4\n"
     ]
    }
   ],
   "source": [
    "print( 1, 2, 3, 4, sep='*')"
   ]
  },
  {
   "cell_type": "code",
   "execution_count": 7,
   "metadata": {},
   "outputs": [
    {
     "name": "stdout",
     "output_type": "stream",
     "text": [
      "[0, 1, 4, 9]\n"
     ]
    }
   ],
   "source": [
    "n = [x*x for x in range(4)]\n",
    "print(n)"
   ]
  },
  {
   "cell_type": "code",
   "execution_count": 8,
   "metadata": {},
   "outputs": [
    {
     "name": "stdout",
     "output_type": "stream",
     "text": [
      "(1, 2, 3, 4)\n"
     ]
    }
   ],
   "source": [
    "print((1,2)+(3,4))"
   ]
  },
  {
   "cell_type": "code",
   "execution_count": 10,
   "metadata": {},
   "outputs": [
    {
     "name": "stdout",
     "output_type": "stream",
     "text": [
      "José, Raphael e João\n"
     ]
    }
   ],
   "source": [
    "names = \"{1}, {2} e {0}\".format('João', 'José', 'Raphael')\n",
    "print(names)"
   ]
  },
  {
   "cell_type": "code",
   "execution_count": 11,
   "metadata": {},
   "outputs": [
    {
     "name": "stdout",
     "output_type": "stream",
     "text": [
      "16 {1: 1, 2: 4, 3: 9, 5: 25}\n"
     ]
    }
   ],
   "source": [
    "squares = {1:1, 2:4, 3:9, 4:16, 5:25}  \n",
    "\n",
    "print(squares.pop(4),squares)"
   ]
  },
  {
   "cell_type": "code",
   "execution_count": 12,
   "metadata": {},
   "outputs": [
    {
     "name": "stdout",
     "output_type": "stream",
     "text": [
      "['P', 'y']\n"
     ]
    }
   ],
   "source": [
    "language = ['P', 'y', 't', 'h', 'o', 'n']\n",
    "print(language[:-4])"
   ]
  },
  {
   "cell_type": "code",
   "execution_count": 5,
   "metadata": {},
   "outputs": [
    {
     "name": "stdout",
     "output_type": "stream",
     "text": [
      "['P', 'Y', 'T', 'H', 'O']\n"
     ]
    }
   ],
   "source": [
    "lista = [\"P\", \"Y\", \"T\", \"H\", \"O\", \"N\"]\n",
    "print(lista[0:-1])"
   ]
  },
  {
   "cell_type": "code",
   "execution_count": 7,
   "metadata": {},
   "outputs": [
    {
     "name": "stdout",
     "output_type": "stream",
     "text": [
      "p\n",
      "n\n",
      "['y', 't', 'h', 'o']\n",
      "['p', 'y', 't', 'h', 'o']\n",
      "['y', 't', 'h', 'o', 'n']\n",
      "['p', 't', 'o']\n",
      "['n', 'o', 'h', 't', 'y', 'p']\n"
     ]
    }
   ],
   "source": [
    "s = [\"p\", \"y\", \"t\", \"h\", \"o\", \"n\"]\n",
    "\n",
    "# acessando o primeiro elemento\n",
    "print(s[0])\n",
    "\n",
    "# acessando o último elemento\n",
    "print(s[-1])\n",
    "\n",
    "# imprime a lista sem o \n",
    "# primeiro e último elementos\n",
    "print(s[1:-1])\n",
    "\n",
    "# imprime a lista sem a última letra\n",
    "print(s[:-1])\n",
    "\n",
    "# imprime a lista sem a primeira letra\n",
    "print(s[1:])\n",
    "\n",
    "# acessando elementos de n em n\n",
    "print(s[::2])\n",
    "\n",
    "# inversão de lista\n",
    "print(s[::-1])"
   ]
  },
  {
   "cell_type": "code",
   "execution_count": 8,
   "metadata": {},
   "outputs": [
    {
     "name": "stdout",
     "output_type": "stream",
     "text": [
      "euqirneH oaoJ\n"
     ]
    }
   ],
   "source": [
    "# inversão de sprint\n",
    "texto_ao_contrario = \"Joao Henrique\"\n",
    "print(texto_ao_contrario[::-1])"
   ]
  },
  {
   "cell_type": "code",
   "execution_count": 11,
   "metadata": {},
   "outputs": [
    {
     "name": "stdout",
     "output_type": "stream",
     "text": [
      "[1, 3, 4]\n",
      "3\n"
     ]
    }
   ],
   "source": [
    "# lista dentro de lista\n",
    "list_2d = [[1, 3, 4], [2, 4, 1]]\n",
    "\n",
    "print(list_2d[0])\n",
    "\n",
    "print(list_2d[0][1])"
   ]
  },
  {
   "cell_type": "code",
   "execution_count": 19,
   "metadata": {},
   "outputs": [
    {
     "name": "stdout",
     "output_type": "stream",
     "text": [
      "['p', 'y', 't', 'h', 'o', 'n', '3']\n",
      "['p', 'y', 't', 'h', 'o', 'n', '3', '.', '5']\n",
      "['p', 'y', 'h', 'o', 'n', '3']\n",
      "['p', 'y', 'h', 'o', 'n']\n",
      "['p', 'y', 'h', 'o']\n",
      "['p', 'y']\n",
      "True False\n"
     ]
    }
   ],
   "source": [
    "s = [\"p\", \"y\", \"t\", \"h\", \"o\", \"n\"]\n",
    "\n",
    "# adicionando um elemento ao final da lista (um a um no final da lista)\n",
    "s.append(\"3\")\n",
    "print(s)\n",
    "\n",
    "# concatenando duas listas\n",
    "print(s + ['.', '5'])\n",
    "\n",
    "# remove um posição da lista, exemplo: [\"p\", \"y\", \"h\", \"o\", \"n\", 3]\n",
    "s.pop(2)\n",
    "print(s)\n",
    "\n",
    "# função pop com parametro exclui sempre a última posição\n",
    "s.pop()\n",
    "print(s)\n",
    "\n",
    "# função remove elimina o elemento da lista procurando ele dentro das posições da lista\n",
    "s.remove('n')\n",
    "print(s)\n",
    "\n",
    "# usando slice para remover\n",
    "s[2:] = []\n",
    "print(s)\n",
    "\n",
    "# verificando se um elemento encontra-se na lista (usar 'in')\n",
    "print(\"y\" in s, \"r\" in s)"
   ]
  },
  {
   "cell_type": "code",
   "execution_count": 20,
   "metadata": {},
   "outputs": [
    {
     "data": {
      "text/plain": [
       "'\\nLista (Complexidade)\\n--------------------\\nOperação         Exemplo                       Complexidade\\n---------        --------                      -------------\\nIndexação        lista[i]                      O(1)\\nAtribuição       lista[i] = 0                  O(1)\\nTamanho          len(lista)                    O(1)\\nPop              lista.pop()                   O(1)\\nLimpeza          lista.clear() ou lista = []   O(1)\\nSlice            lista[a:b]                    O(b-a)\\n-- ou !=         lista1 == lista2              O(N)\\nInserção         lista[a:b] = ...              O(N)\\nContém           valor in  lista               O(N)\\nDeleção          del lista[i]                  O(N) pior caso\\nOrdenação        lista.sort()                  O(N log N)\\n'"
      ]
     },
     "execution_count": 20,
     "metadata": {},
     "output_type": "execute_result"
    }
   ],
   "source": [
    "\"\"\"\n",
    "Lista (Complexidade)\n",
    "--------------------\n",
    "Operação         Exemplo                       Complexidade\n",
    "---------        --------                      -------------\n",
    "Indexação        lista[i]                      O(1)\n",
    "Atribuição       lista[i] = 0                  O(1)\n",
    "Tamanho          len(lista)                    O(1)\n",
    "Pop              lista.pop()                   O(1)\n",
    "Limpeza          lista.clear() ou lista = []   O(1)\n",
    "Slice            lista[a:b]                    O(b-a)\n",
    "-- ou !=         lista1 == lista2              O(N)\n",
    "Inserção         lista[a:b] = ...              O(N)\n",
    "Contém           valor in  lista               O(N)\n",
    "Deleção          del lista[i]                  O(N) pior caso\n",
    "Ordenação        lista.sort()                  O(N log N)\n",
    "\"\"\""
   ]
  },
  {
   "cell_type": "code",
   "execution_count": 21,
   "metadata": {},
   "outputs": [
    {
     "name": "stdout",
     "output_type": "stream",
     "text": [
      "a antes da chamada: 0\n",
      "a na função: 1\n",
      "a depois da chamada: 0\n"
     ]
    }
   ],
   "source": [
    "# variável dentro da função não altera seu valor primitivo\n",
    "a = 0 \n",
    "print(\"'a' antes da chamada:\", a)\n",
    "\n",
    "def mod_variavel(a):\n",
    "    \"\"\"\n",
    "    Exemplo de escopo com uma\n",
    "    variável de tipo primitivo\n",
    "    \"\"\"\n",
    "    a = 1\n",
    "    print(\"'a' na função:\",a)\n",
    "\n",
    "mod_variavel(a)\n",
    "print(\"'a' depois da chamada:\", a)"
   ]
  },
  {
   "cell_type": "code",
   "execution_count": 23,
   "metadata": {},
   "outputs": [
    {
     "name": "stdout",
     "output_type": "stream",
     "text": [
      "lista antes da chamada: [1, 2, 3]\n",
      "lista na função: [1000, 2, 3]\n",
      "lista depois da chamada: [1000, 2, 3]\n"
     ]
    }
   ],
   "source": [
    "# lista dentro de uma função altera seu valor primitivo\n",
    "lista = [1, 2, 3]\n",
    "print(\"lista antes da chamada:\", lista)\n",
    "\n",
    "def mod_lista(lista):\n",
    "    \"\"\"\n",
    "    Exemplo de escopo com uma\n",
    "    variável lista\n",
    "    \"\"\"\n",
    "    lista[0] = 1000\n",
    "    print(\"lista na função:\", lista)\n",
    "    \n",
    "mod_lista(lista)\n",
    "print(\"lista depois da chamada:\", lista)"
   ]
  },
  {
   "cell_type": "code",
   "execution_count": 27,
   "metadata": {},
   "outputs": [
    {
     "name": "stdout",
     "output_type": "stream",
     "text": [
      "['P', 'y', 't', 'h', 'o', 'n']\n",
      "['P', 'Y', 'T', 'H', 'O', 'N']\n"
     ]
    }
   ],
   "source": [
    "s = [\"p\", \"y\", \"t\", \"h\", \"o\", \"n\"]\n",
    "# colocar o primeiro elemento em maisculo\n",
    "s[0] = \"P\"\n",
    "print(s)\n",
    "# colocar os demais em ordem maiscula usando slice\n",
    "s[1:] = [v.upper() for v in s[1:]]\n",
    "print(s)"
   ]
  },
  {
   "cell_type": "code",
   "execution_count": null,
   "metadata": {},
   "outputs": [],
   "source": []
  }
 ],
 "metadata": {
  "kernelspec": {
   "display_name": "Python 3",
   "language": "python",
   "name": "python3"
  },
  "language_info": {
   "codemirror_mode": {
    "name": "ipython",
    "version": 3
   },
   "file_extension": ".py",
   "mimetype": "text/x-python",
   "name": "python",
   "nbconvert_exporter": "python",
   "pygments_lexer": "ipython3",
   "version": "3.6.5"
  }
 },
 "nbformat": 4,
 "nbformat_minor": 2
}
