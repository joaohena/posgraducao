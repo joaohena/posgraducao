{
 "cells": [
  {
   "cell_type": "code",
   "execution_count": 6,
   "metadata": {},
   "outputs": [
    {
     "name": "stdout",
     "output_type": "stream",
     "text": [
      "[ 0  1  4  9 16 25 36 49 64 81]\n",
      "16\n",
      "[25 36 49 64 81]\n",
      "[ 0  4 16 36 64]\n",
      "[81 64 49 36 25 16  9  4  1  0]\n"
     ]
    }
   ],
   "source": [
    "import numpy as np\n",
    "\n",
    "a = np.arange(10) ** 2\n",
    "\n",
    "print(a)\n",
    "\n",
    "print(a[4])\n",
    "\n",
    "print(a[5:])\n",
    "\n",
    "print(a[::2]) # de 2 em dois\n",
    "\n",
    "print(a[::-1]) # invertendo"
   ]
  },
  {
   "cell_type": "code",
   "execution_count": 17,
   "metadata": {},
   "outputs": [
    {
     "name": "stdout",
     "output_type": "stream",
     "text": [
      "[[  0   1   4   9]\n",
      " [ 16  25  36  49]\n",
      " [ 64  81 100 121]\n",
      " [144 169 196 225]]\n",
      "1\n",
      "[ 0 16 64]\n",
      "[  0  16  64 144]\n",
      "[[  0   1]\n",
      " [ 16  25]\n",
      " [ 64  81]\n",
      " [144 169]]\n",
      "[[0 1 4 9]]\n",
      "[144 169 196 225]\n"
     ]
    }
   ],
   "source": [
    "a = (np.arange(16) ** 2).reshape((4,4))\n",
    "\n",
    "print(a)\n",
    "\n",
    "print(a[0,1]) #elemento da linha 0 e coluna 1\n",
    "\n",
    "print(a[:3,0]) # elementos da linha 0 a 2 da coluna 0\n",
    "\n",
    "print(a[:,0]) # todos elementos da coluna 0\n",
    "\n",
    "print(a[:,:2])\n",
    "\n",
    "print(a[:1,:])\n",
    "\n",
    "print(a[-1]) #equivalente a a[-1,:]"
   ]
  },
  {
   "cell_type": "code",
   "execution_count": 21,
   "metadata": {},
   "outputs": [
    {
     "name": "stdout",
     "output_type": "stream",
     "text": [
      "[0 1 4 9]\n",
      "[16 25 36 49]\n",
      "[ 64  81 100 121]\n",
      "[144 169 196 225]\n",
      "---------\n",
      "[  0  16  64 144]\n",
      "[  1  25  81 169]\n",
      "[  4  36 100 196]\n",
      "[  9  49 121 225]\n"
     ]
    }
   ],
   "source": [
    "#linha a linha\n",
    "for linha in a:\n",
    "    print(linha)\n",
    "    \n",
    "print(\"---------\")    \n",
    "\n",
    "#coluna a coluna\n",
    "for coluna in a.T:\n",
    "    print(coluna)"
   ]
  },
  {
   "cell_type": "code",
   "execution_count": 22,
   "metadata": {},
   "outputs": [],
   "source": [
    "# Manipulação do Shape"
   ]
  },
  {
   "cell_type": "code",
   "execution_count": 25,
   "metadata": {},
   "outputs": [
    {
     "name": "stdout",
     "output_type": "stream",
     "text": [
      "[[  0   1   4   9]\n",
      " [ 16  25  36  49]\n",
      " [ 64  81 100 121]\n",
      " [144 169 196 225]]\n",
      "[  0   1   4   9  16  25  36  49  64  81 100 121 144 169 196 225]\n",
      "[  0   1   4   9  16  25  36  49  64  81 100 121 144 169 196 225]\n",
      "[[  0   1]\n",
      " [  4   9]\n",
      " [ 16  25]\n",
      " [ 36  49]\n",
      " [ 64  81]\n",
      " [100 121]\n",
      " [144 169]\n",
      " [196 225]]\n",
      "[[  0]\n",
      " [  1]\n",
      " [  4]\n",
      " [  9]\n",
      " [ 16]\n",
      " [ 25]\n",
      " [ 36]\n",
      " [ 49]\n",
      " [ 64]\n",
      " [ 81]\n",
      " [100]\n",
      " [121]\n",
      " [144]\n",
      " [169]\n",
      " [196]\n",
      " [225]]\n",
      "[[  0   1]\n",
      " [  4   9]\n",
      " [ 16  25]\n",
      " [ 36  49]\n",
      " [ 64  81]\n",
      " [100 121]\n",
      " [144 169]\n",
      " [196 225]]\n",
      "[[  0   4  16  36  64 100 144 196]\n",
      " [  1   9  25  49  81 121 169 225]]\n"
     ]
    }
   ],
   "source": [
    "a = (np.arange(16) ** 2).reshape((4,4))\n",
    "\n",
    "print(a)\n",
    "\n",
    "#flattened array - colocar em lista a matriz\n",
    "print(a.ravel())\n",
    "print(a.reshape(-1))\n",
    "\n",
    "#retorna array com novo formato\n",
    "print(a.reshape(8,2))\n",
    "print(a.reshape(16,1))\n",
    "a.shape = (8,2)\n",
    "print(a)\n",
    "\n",
    "#transposta\n",
    "print(a.T)"
   ]
  },
  {
   "cell_type": "code",
   "execution_count": 30,
   "metadata": {},
   "outputs": [
    {
     "name": "stdout",
     "output_type": "stream",
     "text": [
      "[  0   1   4   9  16  25  36  49  64  81 100 121 144 169 196 225]\n"
     ]
    },
    {
     "data": {
      "text/plain": [
       "array([[  0,   1],\n",
       "       [  4,   9],\n",
       "       [ 16,  25],\n",
       "       [ 36,  49],\n",
       "       [ 64,  81],\n",
       "       [100, 121],\n",
       "       [144, 169],\n",
       "       [196, 225]])"
      ]
     },
     "execution_count": 30,
     "metadata": {},
     "output_type": "execute_result"
    }
   ],
   "source": [
    "a.ravel() #verificar como está na memoria\n",
    "\n",
    "print(a.ravel())\n",
    "a.ravel().reshape((8,2))"
   ]
  },
  {
   "cell_type": "code",
   "execution_count": 31,
   "metadata": {},
   "outputs": [
    {
     "data": {
      "text/plain": [
       "9"
      ]
     },
     "execution_count": 31,
     "metadata": {},
     "output_type": "execute_result"
    }
   ],
   "source": [
    "n_nows = 8\n",
    "n_cols = 2\n",
    "row = 1\n",
    "col = 1\n",
    "a.ravel()[n_cols * row + col]"
   ]
  },
  {
   "cell_type": "code",
   "execution_count": 36,
   "metadata": {},
   "outputs": [
    {
     "name": "stdout",
     "output_type": "stream",
     "text": [
      "[  0   1   4   9  16  25  36  49  64  81 100 121]\n",
      "[ 1  1 36  9 25]\n",
      "[[1 6]\n",
      " [3 5]]\n",
      "[[ 1 36]\n",
      " [ 9 25]]\n"
     ]
    }
   ],
   "source": [
    "# truques de indexação\n",
    "\n",
    "a = np.arange(12) ** 2\n",
    "indices = np.array([1,1,6,3,5])\n",
    "\n",
    "print(a)\n",
    "\n",
    "print(a[indices])\n",
    "\n",
    "bidim_indices = np.array([[1,6], [3,5]])\n",
    "print(bidim_indices)\n",
    "print(a[bidim_indices])"
   ]
  },
  {
   "cell_type": "code",
   "execution_count": 42,
   "metadata": {},
   "outputs": [
    {
     "name": "stdout",
     "output_type": "stream",
     "text": [
      "[[  0   1   4]\n",
      " [  9  16  25]\n",
      " [ 36  49  64]\n",
      " [ 81 100 121]\n",
      " [144 169 196]\n",
      " [225 256 289]\n",
      " [324 361 400]]\n",
      "[[[  9  16  25]\n",
      "  [  0   1   4]]\n",
      "\n",
      " [[ 36  49  64]\n",
      "  [324 361 400]]]\n"
     ]
    },
    {
     "data": {
      "text/plain": [
       "(2, 2, 3)"
      ]
     },
     "execution_count": 42,
     "metadata": {},
     "output_type": "execute_result"
    }
   ],
   "source": [
    "a = (np.arange(21)**2).reshape((7,3))\n",
    "\n",
    "print(a)\n",
    "\n",
    "bidim_indices = np. array([[1,0], [2,6]])\n",
    "print(a[bidim_indices])\n",
    "\n",
    "a[bidim_indices].shape"
   ]
  },
  {
   "cell_type": "code",
   "execution_count": 46,
   "metadata": {},
   "outputs": [
    {
     "name": "stdout",
     "output_type": "stream",
     "text": [
      "[[  0   1   4]\n",
      " [  9  16  25]\n",
      " [ 36  49  64]\n",
      " [ 81 100 121]\n",
      " [144 169 196]\n",
      " [225 256 289]\n",
      " [324 361 400]]\n",
      "[  4  16 256]\n",
      "[[  0   4]\n",
      " [  9  25]\n",
      " [ 36  64]\n",
      " [ 81 121]\n",
      " [144 196]\n",
      " [225 289]\n",
      " [324 400]]\n"
     ]
    }
   ],
   "source": [
    "# tem de ter o mesmo tamanho\n",
    "id_linhas = np.array([0,1,5])\n",
    "id_colunas = np.array([2,1,1])\n",
    "\n",
    "print(a)\n",
    "\n",
    "print(a[id_linhas, id_colunas])\n",
    "\n",
    "print(a[:, [0,2]])"
   ]
  },
  {
   "cell_type": "code",
   "execution_count": 48,
   "metadata": {},
   "outputs": [
    {
     "name": "stdout",
     "output_type": "stream",
     "text": [
      "[[False False False]\n",
      " [False False False]\n",
      " [False False False]\n",
      " [False False False]\n",
      " [False False False]\n",
      " [ True  True  True]\n",
      " [ True  True  True]]\n"
     ]
    },
    {
     "data": {
      "text/plain": [
       "array([225, 256, 289, 324, 361, 400])"
      ]
     },
     "execution_count": 48,
     "metadata": {},
     "output_type": "execute_result"
    }
   ],
   "source": [
    "b = a > 200\n",
    "\n",
    "print(b)\n",
    "\n",
    "a[b]"
   ]
  },
  {
   "cell_type": "code",
   "execution_count": 50,
   "metadata": {},
   "outputs": [
    {
     "data": {
      "text/plain": [
       "array([[  0,   1,   4],\n",
       "       [  9,  16,  25],\n",
       "       [ 36,  49,  64],\n",
       "       [ 81, 100, 121],\n",
       "       [144, 169, 196],\n",
       "       [  0,   0,   0],\n",
       "       [  0,   0,   0]])"
      ]
     },
     "execution_count": 50,
     "metadata": {},
     "output_type": "execute_result"
    }
   ],
   "source": [
    "# pode ser util para atribuição\n",
    "a[b ] = 0\n",
    "a"
   ]
  },
  {
   "cell_type": "code",
   "execution_count": null,
   "metadata": {},
   "outputs": [],
   "source": []
  }
 ],
 "metadata": {
  "kernelspec": {
   "display_name": "Python 3",
   "language": "python",
   "name": "python3"
  },
  "language_info": {
   "codemirror_mode": {
    "name": "ipython",
    "version": 3
   },
   "file_extension": ".py",
   "mimetype": "text/x-python",
   "name": "python",
   "nbconvert_exporter": "python",
   "pygments_lexer": "ipython3",
   "version": "3.6.5"
  }
 },
 "nbformat": 4,
 "nbformat_minor": 2
}
