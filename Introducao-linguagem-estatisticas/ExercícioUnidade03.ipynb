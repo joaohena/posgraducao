{
 "cells": [
  {
   "cell_type": "code",
   "execution_count": 1,
   "metadata": {},
   "outputs": [
    {
     "name": "stdout",
     "output_type": "stream",
     "text": [
      "2\n",
      "(2, 4)\n"
     ]
    }
   ],
   "source": [
    "import numpy as np\n",
    "\n",
    "series = [[23,45,12,679], [14,48,69,38]]\n",
    "\n",
    "new_series = np.array(series)\n",
    "\n",
    "print(new_series.ndim)\n",
    "print(new_series.shape)"
   ]
  },
  {
   "cell_type": "code",
   "execution_count": 9,
   "metadata": {},
   "outputs": [
    {
     "name": "stdout",
     "output_type": "stream",
     "text": [
      "[4. 4. 4. 4. 4. 4. 4. 4. 4. 4.]\n",
      "[0. 0. 0. 0. 0. 0. 0. 0. 0. 0.]\n",
      "[4. 4. 4. 4. 4. 4. 4. 4. 4. 4.]\n",
      "[5. 5. 5. 5. 5. 5. 5. 5. 5. 5.]\n",
      "4\n"
     ]
    }
   ],
   "source": [
    "a = np.zeros(10) + 4\n",
    "print(a)\n",
    "\n",
    "a = np.zeros(10) * 4\n",
    "print(a)\n",
    "\n",
    "a = np.ones(10) * 4\n",
    "print(a)\n",
    "\n",
    "a = np.ones(10) + 4\n",
    "print(a)\n",
    "\n",
    "a = 4\n",
    "print(a)"
   ]
  },
  {
   "cell_type": "code",
   "execution_count": 10,
   "metadata": {},
   "outputs": [
    {
     "name": "stdout",
     "output_type": "stream",
     "text": [
      "[ True False False  True False False False]\n"
     ]
    }
   ],
   "source": [
    "import numpy as np\n",
    "dataset = np.array(['paul', 'jacob', 'vince', 'paul', 'miky', 'larence', 'warren'])\n",
    "print(dataset == 'paul')"
   ]
  },
  {
   "cell_type": "code",
   "execution_count": 11,
   "metadata": {},
   "outputs": [
    {
     "name": "stdout",
     "output_type": "stream",
     "text": [
      "float64\n"
     ]
    }
   ],
   "source": [
    "import numpy as np\n",
    "\n",
    "percentiles = [98, 76.37, 55.55, 69, 88]\n",
    "first_subject = np.array(percentiles)\n",
    "print(first_subject.dtype)"
   ]
  },
  {
   "cell_type": "code",
   "execution_count": 18,
   "metadata": {},
   "outputs": [
    {
     "name": "stdout",
     "output_type": "stream",
     "text": [
      "[ 0 -1  2 -1  4 -1  6 -1  8 -1]\n",
      "[ 0 -1  2 -1  4 -1  6 -1  8 -1]\n",
      "[-1  1 -1  3 -1  5 -1  7 -1  9]\n",
      "[-1  1 -1  3 -1  5 -1  7 -1  9]\n",
      "[-1  1 -1  3 -1  5 -1  7 -1  9]\n"
     ]
    }
   ],
   "source": [
    "import numpy as np\n",
    "arr = np.array([0, 1, 2, 3, 4, 5, 6, 7, 8, 9])\n",
    "arr[(arr % 2).astype(bool)] = -1\n",
    "print(arr)\n",
    "\n",
    "arr = np.array([0, 1, 2, 3, 4, 5, 6, 7, 8, 9])\n",
    "arr[1::2] = -1\n",
    "print(arr)\n",
    "\n",
    "arr = np.array([0, 1, 2, 3, 4, 5, 6, 7, 8, 9])\n",
    "arr[::2] = -1\n",
    "print(arr)\n",
    "\n",
    "arr = np.array([0, 1, 2, 3, 4, 5, 6, 7, 8, 9])\n",
    "arr[arr % 2 == 0] = -1\n",
    "print(arr)\n",
    "\n",
    "arr = np.array([0, 1, 2, 3, 4, 5, 6, 7, 8, 9])\n",
    "arr[np.arange(0, arr.shape[0], 2)] = -1\n",
    "print(arr)"
   ]
  },
  {
   "cell_type": "code",
   "execution_count": 35,
   "metadata": {},
   "outputs": [
    {
     "name": "stdout",
     "output_type": "stream",
     "text": [
      "[8. 1. 5. 3.]\n"
     ]
    }
   ],
   "source": [
    "arr = np.array([80, 10, 50, 30])\n",
    "\n",
    "def normaliza(arr):\n",
    "    #return arr / arr.min() # errado\n",
    "    #return arr / arr.max() # certo\n",
    "    #return (arr - arr.min()) / (arr.max() - arr.min())  # certo\n",
    "    #return arr / arr.sum() # certo \n",
    "           # o que deve ser retornado\n",
    "           # para que os valores de arr\n",
    "           # fiquem compreendido entre 0 e 1\n",
    "\n",
    "print(normaliza(arr))"
   ]
  },
  {
   "cell_type": "code",
   "execution_count": 31,
   "metadata": {},
   "outputs": [
    {
     "name": "stdout",
     "output_type": "stream",
     "text": [
      "32.22222222222222\n",
      "72.5\n",
      "32.22222222222222\n",
      "72.5\n",
      "72.5\n"
     ]
    }
   ],
   "source": [
    "import numpy as np\n",
    "\n",
    "# qual faz média ponderada\n",
    "\n",
    "valores = np.array([80, 10, 50, 30])\n",
    "pesos = np.array([2, 5, 1, 1])\n",
    "\n",
    "print(np.average(valores, weights=pesos)) # certo\n",
    "print(np.mean(valores * pesos)) # errado\n",
    "print(np.sum(valores * pesos) / np.sum(pesos)) # certo\n",
    "print(np.average(valores * pesos)) # errado\n",
    "print(np.sum(valores * pesos) / valores.shape[0]) # errado"
   ]
  },
  {
   "cell_type": "code",
   "execution_count": null,
   "metadata": {},
   "outputs": [],
   "source": []
  }
 ],
 "metadata": {
  "kernelspec": {
   "display_name": "Python 3",
   "language": "python",
   "name": "python3"
  },
  "language_info": {
   "codemirror_mode": {
    "name": "ipython",
    "version": 3
   },
   "file_extension": ".py",
   "mimetype": "text/x-python",
   "name": "python",
   "nbconvert_exporter": "python",
   "pygments_lexer": "ipython3",
   "version": "3.6.5"
  }
 },
 "nbformat": 4,
 "nbformat_minor": 2
}
